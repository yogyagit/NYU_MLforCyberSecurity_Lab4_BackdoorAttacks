{
 "cells": [
  {
   "cell_type": "code",
   "execution_count": 203,
   "id": "040ab674",
   "metadata": {},
   "outputs": [],
   "source": [
    "import keras\n",
    "import h5py\n",
    "import numpy as np\n",
    "from tqdm import tqdm\n",
    "from keras.models import Model\n",
    "from keras.models import Model\n",
    "import matplotlib.pyplot as plt\n",
    "from sklearn.metrics import accuracy_score\n",
    "from keras.layers import Input, GlobalAveragePooling2D, Dense"
   ]
  },
  {
   "cell_type": "code",
   "execution_count": 204,
   "id": "ad71ce50",
   "metadata": {},
   "outputs": [
    {
     "name": "stdout",
     "output_type": "stream",
     "text": [
      "361/361 [==============================] - 1s 4ms/step\n",
      "Classification Accuracy on Clean Data: 98.64899974019225\n",
      "361/361 [==============================] - 1s 4ms/step\n",
      "Attack Success Rate: 100.0\n"
     ]
    }
   ],
   "source": [
    "cl_data_path = r'/Users/yogyasharma/Downloads/Lab3/data/cl/valid.h5'\n",
    "bd_data_path = r'/Users/yogyasharma/Downloads/Lab3/data/bd/bd_valid.h5'\n",
    "model_path = r'/Users/yogyasharma/Downloads/Lab3/models/bd_net.h5'\n",
    "\n",
    "def load_data(filepath):\n",
    "    data = h5py.File(filepath, 'r')\n",
    "    x_data = np.array(data['data'])\n",
    "    y_data = np.array(data['label'])\n",
    "    x_data = x_data.transpose((0, 2, 3, 1))\n",
    "    return x_data, y_data\n",
    "\n",
    "clean_x_test, clean_y_test = load_data(cl_data_path)\n",
    "bd_x_test, bd_y_test = load_data(bd_data_path)\n",
    "\n",
    "badnet_model = keras.models.load_model(model_path)\n",
    "\n",
    "clean_label_pred = np.argmax(badnet_model.predict(clean_x_test), axis=1)\n",
    "clean_clf_acc = np.mean(np.equal(clean_label_pred, clean_y_test)) * 100\n",
    "print('Classification Accuracy on Clean Data:', clean_clf_acc)\n",
    "\n",
    "bd_label_pred = np.argmax(badnet_model.predict(bd_x_test), axis=1)\n",
    "attack_success_rate = np.mean(np.equal(bd_label_pred, bd_y_test)) * 100\n",
    "print('Attack Success Rate:', attack_success_rate)\n"
   ]
  },
  {
   "cell_type": "code",
   "execution_count": 205,
   "id": "7e19dc76",
   "metadata": {},
   "outputs": [
    {
     "name": "stdout",
     "output_type": "stream",
     "text": [
      "Model: \"model_1\"\n",
      "__________________________________________________________________________________________________\n",
      " Layer (type)                Output Shape                 Param #   Connected to                  \n",
      "==================================================================================================\n",
      " input (InputLayer)          [(None, 55, 47, 3)]          0         []                            \n",
      "                                                                                                  \n",
      " conv_1 (Conv2D)             (None, 52, 44, 20)           980       ['input[0][0]']               \n",
      "                                                                                                  \n",
      " pool_1 (MaxPooling2D)       (None, 26, 22, 20)           0         ['conv_1[0][0]']              \n",
      "                                                                                                  \n",
      " conv_2 (Conv2D)             (None, 24, 20, 40)           7240      ['pool_1[0][0]']              \n",
      "                                                                                                  \n",
      " pool_2 (MaxPooling2D)       (None, 12, 10, 40)           0         ['conv_2[0][0]']              \n",
      "                                                                                                  \n",
      " conv_3 (Conv2D)             (None, 10, 8, 60)            21660     ['pool_2[0][0]']              \n",
      "                                                                                                  \n",
      " pool_3 (MaxPooling2D)       (None, 5, 4, 60)             0         ['conv_3[0][0]']              \n",
      "                                                                                                  \n",
      " conv_4 (Conv2D)             (None, 4, 3, 80)             19280     ['pool_3[0][0]']              \n",
      "                                                                                                  \n",
      " flatten_1 (Flatten)         (None, 1200)                 0         ['pool_3[0][0]']              \n",
      "                                                                                                  \n",
      " flatten_2 (Flatten)         (None, 960)                  0         ['conv_4[0][0]']              \n",
      "                                                                                                  \n",
      " fc_1 (Dense)                (None, 160)                  192160    ['flatten_1[0][0]']           \n",
      "                                                                                                  \n",
      " fc_2 (Dense)                (None, 160)                  153760    ['flatten_2[0][0]']           \n",
      "                                                                                                  \n",
      " add_1 (Add)                 (None, 160)                  0         ['fc_1[0][0]',                \n",
      "                                                                     'fc_2[0][0]']                \n",
      "                                                                                                  \n",
      " activation_1 (Activation)   (None, 160)                  0         ['add_1[0][0]']               \n",
      "                                                                                                  \n",
      " output (Dense)              (None, 1283)                 206563    ['activation_1[0][0]']        \n",
      "                                                                                                  \n",
      "==================================================================================================\n",
      "Total params: 601643 (2.30 MB)\n",
      "Trainable params: 601643 (2.30 MB)\n",
      "Non-trainable params: 0 (0.00 Byte)\n",
      "__________________________________________________________________________________________________\n",
      "None\n"
     ]
    }
   ],
   "source": [
    "print(badnet_model.summary())"
   ]
  },
  {
   "cell_type": "code",
   "execution_count": 206,
   "id": "3fbfc5f4",
   "metadata": {},
   "outputs": [
    {
     "name": "stdout",
     "output_type": "stream",
     "text": [
      "401/401 [==============================] - 1s 3ms/step\n"
     ]
    },
    {
     "name": "stderr",
     "output_type": "stream",
     "text": [
      "  0%|                                                    | 0/60 [00:00<?, ?it/s]"
     ]
    },
    {
     "name": "stdout",
     "output_type": "stream",
     "text": [
      "401/401 [==============================] - 2s 4ms/step\n",
      "361/361 [==============================] - 1s 4ms/step\n",
      "Clean Classification Accuracy:  98.62042088854248\n",
      "Attack Success Rate:  100.0\n",
      "Pruned Channel Index:  0\n"
     ]
    },
    {
     "name": "stderr",
     "output_type": "stream",
     "text": [
      "  2%|▋                                           | 1/60 [00:03<03:27,  3.52s/it]"
     ]
    },
    {
     "name": "stdout",
     "output_type": "stream",
     "text": [
      "401/401 [==============================] - 1s 4ms/step\n",
      "361/361 [==============================] - 1s 4ms/step\n"
     ]
    },
    {
     "name": "stderr",
     "output_type": "stream",
     "text": [
      "  3%|█▍                                          | 2/60 [00:06<03:16,  3.39s/it]"
     ]
    },
    {
     "name": "stdout",
     "output_type": "stream",
     "text": [
      "Clean Classification Accuracy:  98.62042088854248\n",
      "Attack Success Rate:  100.0\n",
      "Pruned Channel Index:  26\n",
      "401/401 [==============================] - 1s 4ms/step\n",
      "361/361 [==============================] - 1s 4ms/step\n"
     ]
    },
    {
     "name": "stderr",
     "output_type": "stream",
     "text": [
      "  5%|██▏                                         | 3/60 [00:10<03:13,  3.39s/it]"
     ]
    },
    {
     "name": "stdout",
     "output_type": "stream",
     "text": [
      "Clean Classification Accuracy:  98.62042088854248\n",
      "Attack Success Rate:  100.0\n",
      "Pruned Channel Index:  30\n",
      "401/401 [==============================] - 1s 4ms/step\n",
      "361/361 [==============================] - 1s 4ms/step\n"
     ]
    },
    {
     "name": "stderr",
     "output_type": "stream",
     "text": [
      "  7%|██▉                                         | 4/60 [00:13<03:07,  3.35s/it]"
     ]
    },
    {
     "name": "stdout",
     "output_type": "stream",
     "text": [
      "Clean Classification Accuracy:  98.62042088854248\n",
      "Attack Success Rate:  100.0\n",
      "Pruned Channel Index:  31\n",
      "401/401 [==============================] - 1s 4ms/step\n",
      "361/361 [==============================] - 1s 4ms/step\n"
     ]
    },
    {
     "name": "stderr",
     "output_type": "stream",
     "text": [
      "  8%|███▋                                        | 5/60 [00:16<03:02,  3.31s/it]"
     ]
    },
    {
     "name": "stdout",
     "output_type": "stream",
     "text": [
      "Clean Classification Accuracy:  98.62042088854248\n",
      "Attack Success Rate:  100.0\n",
      "Pruned Channel Index:  33\n",
      "401/401 [==============================] - 1s 4ms/step\n",
      "361/361 [==============================] - 1s 4ms/step\n"
     ]
    },
    {
     "name": "stderr",
     "output_type": "stream",
     "text": [
      " 10%|████▍                                       | 6/60 [00:20<03:11,  3.55s/it]"
     ]
    },
    {
     "name": "stdout",
     "output_type": "stream",
     "text": [
      "Clean Classification Accuracy:  98.62042088854248\n",
      "Attack Success Rate:  100.0\n",
      "Pruned Channel Index:  34\n",
      "401/401 [==============================] - 1s 4ms/step\n",
      "361/361 [==============================] - 1s 4ms/step\n"
     ]
    },
    {
     "name": "stderr",
     "output_type": "stream",
     "text": [
      " 12%|█████▏                                      | 7/60 [00:24<03:04,  3.49s/it]"
     ]
    },
    {
     "name": "stdout",
     "output_type": "stream",
     "text": [
      "Clean Classification Accuracy:  98.62042088854248\n",
      "Attack Success Rate:  100.0\n",
      "Pruned Channel Index:  36\n",
      "401/401 [==============================] - 2s 4ms/step\n",
      "361/361 [==============================] - 1s 4ms/step\n"
     ]
    },
    {
     "name": "stderr",
     "output_type": "stream",
     "text": [
      " 13%|█████▊                                      | 8/60 [00:27<03:07,  3.61s/it]"
     ]
    },
    {
     "name": "stdout",
     "output_type": "stream",
     "text": [
      "Clean Classification Accuracy:  98.62042088854248\n",
      "Attack Success Rate:  100.0\n",
      "Pruned Channel Index:  37\n",
      "401/401 [==============================] - 2s 4ms/step\n",
      "361/361 [==============================] - 1s 4ms/step\n"
     ]
    },
    {
     "name": "stderr",
     "output_type": "stream",
     "text": [
      " 15%|██████▌                                     | 9/60 [00:31<03:09,  3.71s/it]"
     ]
    },
    {
     "name": "stdout",
     "output_type": "stream",
     "text": [
      "Clean Classification Accuracy:  98.62042088854248\n",
      "Attack Success Rate:  100.0\n",
      "Pruned Channel Index:  38\n",
      "401/401 [==============================] - 1s 4ms/step\n",
      "361/361 [==============================] - 1s 4ms/step\n"
     ]
    },
    {
     "name": "stderr",
     "output_type": "stream",
     "text": [
      " 17%|███████▏                                   | 10/60 [00:35<02:59,  3.59s/it]"
     ]
    },
    {
     "name": "stdout",
     "output_type": "stream",
     "text": [
      "Clean Classification Accuracy:  98.62042088854248\n",
      "Attack Success Rate:  100.0\n",
      "Pruned Channel Index:  39\n",
      "401/401 [==============================] - 2s 4ms/step\n",
      "361/361 [==============================] - 1s 4ms/step\n",
      "Clean Classification Accuracy:  98.62042088854248\n",
      "Attack Success Rate:  100.0\n",
      "Pruned Channel Index:  40\n"
     ]
    },
    {
     "name": "stderr",
     "output_type": "stream",
     "text": [
      " 18%|███████▉                                   | 11/60 [00:39<03:01,  3.70s/it]"
     ]
    },
    {
     "name": "stdout",
     "output_type": "stream",
     "text": [
      "401/401 [==============================] - 2s 4ms/step\n",
      "361/361 [==============================] - 1s 4ms/step\n",
      "Clean Classification Accuracy:  98.62042088854248\n",
      "Attack Success Rate:  100.0\n",
      "Pruned Channel Index:  41\n"
     ]
    },
    {
     "name": "stderr",
     "output_type": "stream",
     "text": [
      " 20%|████████▌                                  | 12/60 [00:42<02:57,  3.69s/it]"
     ]
    },
    {
     "name": "stdout",
     "output_type": "stream",
     "text": [
      "401/401 [==============================] - 1s 4ms/step\n",
      "361/361 [==============================] - 1s 4ms/step\n"
     ]
    },
    {
     "name": "stderr",
     "output_type": "stream",
     "text": [
      " 22%|█████████▎                                 | 13/60 [00:46<02:48,  3.58s/it]"
     ]
    },
    {
     "name": "stdout",
     "output_type": "stream",
     "text": [
      "Clean Classification Accuracy:  98.62042088854248\n",
      "Attack Success Rate:  100.0\n",
      "Pruned Channel Index:  44\n",
      "401/401 [==============================] - 2s 4ms/step\n",
      "361/361 [==============================] - 1s 4ms/step\n"
     ]
    },
    {
     "name": "stderr",
     "output_type": "stream",
     "text": [
      " 23%|██████████                                 | 14/60 [00:49<02:46,  3.61s/it]"
     ]
    },
    {
     "name": "stdout",
     "output_type": "stream",
     "text": [
      "Clean Classification Accuracy:  98.62042088854248\n",
      "Attack Success Rate:  100.0\n",
      "Pruned Channel Index:  45\n",
      "401/401 [==============================] - 2s 4ms/step\n",
      "361/361 [==============================] - 1s 4ms/step\n"
     ]
    },
    {
     "name": "stderr",
     "output_type": "stream",
     "text": [
      " 25%|██████████▊                                | 15/60 [00:54<02:50,  3.79s/it]"
     ]
    },
    {
     "name": "stdout",
     "output_type": "stream",
     "text": [
      "Clean Classification Accuracy:  98.62042088854248\n",
      "Attack Success Rate:  100.0\n",
      "Pruned Channel Index:  47\n",
      "401/401 [==============================] - 1s 4ms/step\n",
      "361/361 [==============================] - 1s 4ms/step\n"
     ]
    },
    {
     "name": "stderr",
     "output_type": "stream",
     "text": [
      " 27%|███████████▍                               | 16/60 [00:57<02:39,  3.64s/it]"
     ]
    },
    {
     "name": "stdout",
     "output_type": "stream",
     "text": [
      "Clean Classification Accuracy:  98.62042088854248\n",
      "Attack Success Rate:  100.0\n",
      "Pruned Channel Index:  48\n",
      "401/401 [==============================] - 1s 4ms/step\n",
      "361/361 [==============================] - 1s 4ms/step\n"
     ]
    },
    {
     "name": "stderr",
     "output_type": "stream",
     "text": [
      " 28%|████████████▏                              | 17/60 [01:00<02:32,  3.55s/it]"
     ]
    },
    {
     "name": "stdout",
     "output_type": "stream",
     "text": [
      "Clean Classification Accuracy:  98.62042088854248\n",
      "Attack Success Rate:  100.0\n",
      "Pruned Channel Index:  49\n",
      "401/401 [==============================] - 1s 4ms/step\n",
      "361/361 [==============================] - 1s 4ms/step\n"
     ]
    },
    {
     "name": "stderr",
     "output_type": "stream",
     "text": [
      " 30%|████████████▉                              | 18/60 [01:04<02:28,  3.53s/it]"
     ]
    },
    {
     "name": "stdout",
     "output_type": "stream",
     "text": [
      "Clean Classification Accuracy:  98.62042088854248\n",
      "Attack Success Rate:  100.0\n",
      "Pruned Channel Index:  50\n",
      "401/401 [==============================] - 2s 4ms/step\n",
      "361/361 [==============================] - 2s 6ms/step\n"
     ]
    },
    {
     "name": "stderr",
     "output_type": "stream",
     "text": [
      " 32%|█████████████▌                             | 19/60 [01:08<02:36,  3.83s/it]"
     ]
    },
    {
     "name": "stdout",
     "output_type": "stream",
     "text": [
      "Clean Classification Accuracy:  98.62042088854248\n",
      "Attack Success Rate:  100.0\n",
      "Pruned Channel Index:  53\n",
      "401/401 [==============================] - 2s 5ms/step\n",
      "361/361 [==============================] - 1s 4ms/step\n"
     ]
    },
    {
     "name": "stderr",
     "output_type": "stream",
     "text": [
      " 33%|██████████████▎                            | 20/60 [01:12<02:39,  3.98s/it]"
     ]
    },
    {
     "name": "stdout",
     "output_type": "stream",
     "text": [
      "Clean Classification Accuracy:  98.62042088854248\n",
      "Attack Success Rate:  100.0\n",
      "Pruned Channel Index:  55\n",
      "401/401 [==============================] - 2s 4ms/step\n",
      "361/361 [==============================] - 1s 4ms/step\n"
     ]
    },
    {
     "name": "stderr",
     "output_type": "stream",
     "text": [
      " 35%|███████████████                            | 21/60 [01:16<02:33,  3.94s/it]"
     ]
    },
    {
     "name": "stdout",
     "output_type": "stream",
     "text": [
      "Clean Classification Accuracy:  98.62042088854248\n",
      "Attack Success Rate:  100.0\n",
      "Pruned Channel Index:  25\n",
      "401/401 [==============================] - 2s 4ms/step\n",
      "361/361 [==============================] - 1s 4ms/step\n"
     ]
    },
    {
     "name": "stderr",
     "output_type": "stream",
     "text": [
      " 37%|███████████████▊                           | 22/60 [01:20<02:24,  3.81s/it]"
     ]
    },
    {
     "name": "stdout",
     "output_type": "stream",
     "text": [
      "Clean Classification Accuracy:  98.62042088854248\n",
      "Attack Success Rate:  100.0\n",
      "Pruned Channel Index:  24\n",
      "401/401 [==============================] - 2s 4ms/step\n",
      "361/361 [==============================] - 1s 4ms/step\n"
     ]
    },
    {
     "name": "stderr",
     "output_type": "stream",
     "text": [
      " 38%|████████████████▍                          | 23/60 [01:24<02:22,  3.85s/it]"
     ]
    },
    {
     "name": "stdout",
     "output_type": "stream",
     "text": [
      "Clean Classification Accuracy:  98.62042088854248\n",
      "Attack Success Rate:  100.0\n",
      "Pruned Channel Index:  59\n",
      "401/401 [==============================] - 2s 4ms/step\n",
      "361/361 [==============================] - 1s 4ms/step\n"
     ]
    },
    {
     "name": "stderr",
     "output_type": "stream",
     "text": [
      " 40%|█████████████████▏                         | 24/60 [01:28<02:19,  3.86s/it]"
     ]
    },
    {
     "name": "stdout",
     "output_type": "stream",
     "text": [
      "Clean Classification Accuracy:  98.62042088854248\n",
      "Attack Success Rate:  100.0\n",
      "Pruned Channel Index:  9\n",
      "401/401 [==============================] - 2s 4ms/step\n",
      "361/361 [==============================] - 1s 4ms/step\n"
     ]
    },
    {
     "name": "stderr",
     "output_type": "stream",
     "text": [
      " 42%|█████████████████▉                         | 25/60 [01:31<02:11,  3.76s/it]"
     ]
    },
    {
     "name": "stdout",
     "output_type": "stream",
     "text": [
      "Clean Classification Accuracy:  98.62042088854248\n",
      "Attack Success Rate:  100.0\n",
      "Pruned Channel Index:  2\n",
      "401/401 [==============================] - 2s 4ms/step\n",
      "361/361 [==============================] - 1s 4ms/step\n"
     ]
    },
    {
     "name": "stderr",
     "output_type": "stream",
     "text": [
      " 43%|██████████████████▋                        | 26/60 [01:35<02:08,  3.78s/it]"
     ]
    },
    {
     "name": "stdout",
     "output_type": "stream",
     "text": [
      "Clean Classification Accuracy:  98.62042088854248\n",
      "Attack Success Rate:  100.0\n",
      "Pruned Channel Index:  12\n",
      "401/401 [==============================] - 2s 4ms/step\n",
      "361/361 [==============================] - 1s 4ms/step\n"
     ]
    },
    {
     "name": "stderr",
     "output_type": "stream",
     "text": [
      " 45%|███████████████████▎                       | 27/60 [01:39<02:04,  3.78s/it]"
     ]
    },
    {
     "name": "stdout",
     "output_type": "stream",
     "text": [
      "Clean Classification Accuracy:  98.62042088854248\n",
      "Attack Success Rate:  100.0\n",
      "Pruned Channel Index:  13\n",
      "401/401 [==============================] - 2s 4ms/step\n",
      "361/361 [==============================] - 1s 4ms/step\n"
     ]
    },
    {
     "name": "stderr",
     "output_type": "stream",
     "text": [
      " 47%|████████████████████                       | 28/60 [01:42<01:56,  3.65s/it]"
     ]
    },
    {
     "name": "stdout",
     "output_type": "stream",
     "text": [
      "Clean Classification Accuracy:  98.62042088854248\n",
      "Attack Success Rate:  100.0\n",
      "Pruned Channel Index:  14\n",
      "401/401 [==============================] - 1s 4ms/step\n",
      "361/361 [==============================] - 1s 4ms/step\n"
     ]
    },
    {
     "name": "stderr",
     "output_type": "stream",
     "text": [
      " 48%|████████████████████▊                      | 29/60 [01:46<01:50,  3.58s/it]"
     ]
    },
    {
     "name": "stdout",
     "output_type": "stream",
     "text": [
      "Clean Classification Accuracy:  98.62042088854248\n",
      "Attack Success Rate:  100.0\n",
      "Pruned Channel Index:  15\n",
      "401/401 [==============================] - 2s 4ms/step\n",
      "361/361 [==============================] - 1s 4ms/step\n"
     ]
    },
    {
     "name": "stderr",
     "output_type": "stream",
     "text": [
      " 50%|█████████████████████▌                     | 30/60 [01:49<01:49,  3.67s/it]"
     ]
    },
    {
     "name": "stdout",
     "output_type": "stream",
     "text": [
      "Clean Classification Accuracy:  98.62042088854248\n",
      "Attack Success Rate:  100.0\n",
      "Pruned Channel Index:  17\n",
      "401/401 [==============================] - 2s 4ms/step\n",
      "361/361 [==============================] - 1s 4ms/step\n"
     ]
    },
    {
     "name": "stderr",
     "output_type": "stream",
     "text": [
      " 52%|██████████████████████▏                    | 31/60 [01:53<01:44,  3.60s/it]"
     ]
    },
    {
     "name": "stdout",
     "output_type": "stream",
     "text": [
      "Clean Classification Accuracy:  98.62042088854248\n",
      "Attack Success Rate:  100.0\n",
      "Pruned Channel Index:  27\n",
      "401/401 [==============================] - 1s 4ms/step\n",
      "361/361 [==============================] - 1s 4ms/step\n"
     ]
    },
    {
     "name": "stderr",
     "output_type": "stream",
     "text": [
      " 53%|██████████████████████▉                    | 32/60 [01:57<01:41,  3.63s/it]"
     ]
    },
    {
     "name": "stdout",
     "output_type": "stream",
     "text": [
      "Clean Classification Accuracy:  98.62042088854248\n",
      "Attack Success Rate:  100.0\n",
      "Pruned Channel Index:  23\n",
      "401/401 [==============================] - 2s 4ms/step\n",
      "361/361 [==============================] - 1s 4ms/step\n"
     ]
    },
    {
     "name": "stderr",
     "output_type": "stream",
     "text": [
      " 55%|███████████████████████▋                   | 33/60 [02:00<01:39,  3.68s/it]"
     ]
    },
    {
     "name": "stdout",
     "output_type": "stream",
     "text": [
      "Clean Classification Accuracy:  98.62042088854248\n",
      "Attack Success Rate:  100.0\n",
      "Pruned Channel Index:  6\n",
      "401/401 [==============================] - 2s 4ms/step\n",
      "361/361 [==============================] - 1s 4ms/step\n",
      "Clean Classification Accuracy:  98.62042088854248\n",
      "Attack Success Rate:  100.0\n",
      "Pruned Channel Index:  32\n"
     ]
    },
    {
     "name": "stderr",
     "output_type": "stream",
     "text": [
      " 57%|████████████████████████▎                  | 34/60 [02:04<01:33,  3.60s/it]"
     ]
    },
    {
     "name": "stdout",
     "output_type": "stream",
     "text": [
      "401/401 [==============================] - 2s 4ms/step\n",
      "361/361 [==============================] - 1s 4ms/step\n"
     ]
    },
    {
     "name": "stderr",
     "output_type": "stream",
     "text": [
      " 58%|█████████████████████████                  | 35/60 [02:07<01:30,  3.62s/it]"
     ]
    },
    {
     "name": "stdout",
     "output_type": "stream",
     "text": [
      "Clean Classification Accuracy:  98.61262665627436\n",
      "Attack Success Rate:  100.0\n",
      "Pruned Channel Index:  51\n",
      "401/401 [==============================] - 2s 4ms/step\n",
      "361/361 [==============================] - 1s 4ms/step\n"
     ]
    },
    {
     "name": "stderr",
     "output_type": "stream",
     "text": [
      " 60%|█████████████████████████▊                 | 36/60 [02:11<01:29,  3.72s/it]"
     ]
    },
    {
     "name": "stdout",
     "output_type": "stream",
     "text": [
      "Clean Classification Accuracy:  98.60483242400623\n",
      "Attack Success Rate:  100.0\n",
      "Pruned Channel Index:  22\n",
      "401/401 [==============================] - 1s 4ms/step\n",
      "361/361 [==============================] - 1s 4ms/step\n"
     ]
    },
    {
     "name": "stderr",
     "output_type": "stream",
     "text": [
      " 62%|██████████████████████████▌                | 37/60 [02:15<01:23,  3.61s/it]"
     ]
    },
    {
     "name": "stdout",
     "output_type": "stream",
     "text": [
      "Clean Classification Accuracy:  98.60483242400623\n",
      "Attack Success Rate:  100.0\n",
      "Pruned Channel Index:  21\n",
      "401/401 [==============================] - 2s 4ms/step\n",
      "361/361 [==============================] - 2s 4ms/step\n"
     ]
    },
    {
     "name": "stderr",
     "output_type": "stream",
     "text": [
      " 63%|███████████████████████████▏               | 38/60 [02:19<01:21,  3.71s/it]"
     ]
    },
    {
     "name": "stdout",
     "output_type": "stream",
     "text": [
      "Clean Classification Accuracy:  98.58924395947\n",
      "Attack Success Rate:  100.0\n",
      "Pruned Channel Index:  20\n",
      "401/401 [==============================] - 1s 4ms/step\n",
      "361/361 [==============================] - 1s 4ms/step\n"
     ]
    },
    {
     "name": "stderr",
     "output_type": "stream",
     "text": [
      " 65%|███████████████████████████▉               | 39/60 [02:23<01:19,  3.77s/it]"
     ]
    },
    {
     "name": "stdout",
     "output_type": "stream",
     "text": [
      "Clean Classification Accuracy:  98.55027279812938\n",
      "Attack Success Rate:  100.0\n",
      "Pruned Channel Index:  19\n",
      "401/401 [==============================] - 2s 4ms/step\n",
      "361/361 [==============================] - 1s 4ms/step\n"
     ]
    },
    {
     "name": "stderr",
     "output_type": "stream",
     "text": [
      " 67%|████████████████████████████▋              | 40/60 [02:26<01:13,  3.67s/it]"
     ]
    },
    {
     "name": "stdout",
     "output_type": "stream",
     "text": [
      "Clean Classification Accuracy:  98.53468433359313\n",
      "Attack Success Rate:  100.0\n",
      "Pruned Channel Index:  43\n",
      "401/401 [==============================] - 2s 4ms/step\n",
      "361/361 [==============================] - 1s 4ms/step\n"
     ]
    },
    {
     "name": "stderr",
     "output_type": "stream",
     "text": [
      " 68%|█████████████████████████████▍             | 41/60 [02:30<01:09,  3.63s/it]"
     ]
    },
    {
     "name": "stdout",
     "output_type": "stream",
     "text": [
      "Clean Classification Accuracy:  98.52689010132501\n",
      "Attack Success Rate:  100.0\n",
      "Pruned Channel Index:  58\n",
      "401/401 [==============================] - 1s 4ms/step\n",
      "361/361 [==============================] - 1s 4ms/step\n"
     ]
    },
    {
     "name": "stderr",
     "output_type": "stream",
     "text": [
      " 70%|██████████████████████████████             | 42/60 [02:33<01:05,  3.66s/it]"
     ]
    },
    {
     "name": "stdout",
     "output_type": "stream",
     "text": [
      "Clean Classification Accuracy:  98.269680436477\n",
      "Attack Success Rate:  100.0\n",
      "Pruned Channel Index:  3\n",
      "401/401 [==============================] - 1s 4ms/step\n",
      "361/361 [==============================] - 1s 4ms/step\n"
     ]
    },
    {
     "name": "stderr",
     "output_type": "stream",
     "text": [
      " 72%|██████████████████████████████▊            | 43/60 [02:37<01:01,  3.59s/it]"
     ]
    },
    {
     "name": "stdout",
     "output_type": "stream",
     "text": [
      "Clean Classification Accuracy:  97.88776305533905\n",
      "Attack Success Rate:  100.0\n",
      "Pruned Channel Index:  42\n",
      "401/401 [==============================] - 2s 4ms/step\n",
      "361/361 [==============================] - 1s 4ms/step\n"
     ]
    },
    {
     "name": "stderr",
     "output_type": "stream",
     "text": [
      " 73%|███████████████████████████████▌           | 44/60 [02:41<00:58,  3.65s/it]"
     ]
    },
    {
     "name": "stdout",
     "output_type": "stream",
     "text": [
      "Clean Classification Accuracy:  97.66173031956352\n",
      "Attack Success Rate:  100.0\n",
      "Pruned Channel Index:  1\n",
      "401/401 [==============================] - 2s 4ms/step\n",
      "The accuracy drops by at least 2%, model is saved.\n",
      "WARNING:tensorflow:Compiled the loaded model, but the compiled metrics have yet to be built. `model.compile_metrics` will be empty until you train or evaluate the model.\n"
     ]
    },
    {
     "name": "stderr",
     "output_type": "stream",
     "text": [
      "/Users/yogyasharma/anaconda3/lib/python3.11/site-packages/keras/src/engine/training.py:3103: UserWarning: You are saving your model as an HDF5 file via `model.save()`. This file format is considered legacy. We recommend using instead the native Keras format, e.g. `model.save('my_model.keras')`.\n",
      "  saving_api.save_model(\n",
      "WARNING:tensorflow:Compiled the loaded model, but the compiled metrics have yet to be built. `model.compile_metrics` will be empty until you train or evaluate the model.\n"
     ]
    },
    {
     "name": "stdout",
     "output_type": "stream",
     "text": [
      "361/361 [==============================] - 1s 4ms/step\n"
     ]
    },
    {
     "name": "stderr",
     "output_type": "stream",
     "text": [
      " 75%|████████████████████████████████▎          | 45/60 [02:44<00:54,  3.66s/it]"
     ]
    },
    {
     "name": "stdout",
     "output_type": "stream",
     "text": [
      "Clean Classification Accuracy:  95.90023382696803\n",
      "Attack Success Rate:  100.0\n",
      "Pruned Channel Index:  29\n",
      "401/401 [==============================] - 1s 4ms/step\n",
      "361/361 [==============================] - 1s 4ms/step\n"
     ]
    },
    {
     "name": "stderr",
     "output_type": "stream",
     "text": [
      " 77%|████████████████████████████████▉          | 46/60 [02:48<00:49,  3.56s/it]"
     ]
    },
    {
     "name": "stdout",
     "output_type": "stream",
     "text": [
      "Clean Classification Accuracy:  95.5261106780982\n",
      "Attack Success Rate:  99.9913397419243\n",
      "Pruned Channel Index:  16\n",
      "401/401 [==============================] - 1s 4ms/step\n",
      "361/361 [==============================] - 1s 4ms/step\n"
     ]
    },
    {
     "name": "stderr",
     "output_type": "stream",
     "text": [
      " 78%|█████████████████████████████████▋         | 47/60 [02:51<00:45,  3.50s/it]"
     ]
    },
    {
     "name": "stdout",
     "output_type": "stream",
     "text": [
      "Clean Classification Accuracy:  95.0584567420109\n",
      "Attack Success Rate:  99.9913397419243\n",
      "Pruned Channel Index:  56\n",
      "401/401 [==============================] - 2s 4ms/step\n",
      "The accuracy drops by at least 4%, model is saved.\n",
      "WARNING:tensorflow:Compiled the loaded model, but the compiled metrics have yet to be built. `model.compile_metrics` will be empty until you train or evaluate the model.\n"
     ]
    },
    {
     "name": "stderr",
     "output_type": "stream",
     "text": [
      "WARNING:tensorflow:Compiled the loaded model, but the compiled metrics have yet to be built. `model.compile_metrics` will be empty until you train or evaluate the model.\n"
     ]
    },
    {
     "name": "stdout",
     "output_type": "stream",
     "text": [
      "361/361 [==============================] - 1s 4ms/step\n"
     ]
    },
    {
     "name": "stderr",
     "output_type": "stream",
     "text": [
      " 80%|██████████████████████████████████▍        | 48/60 [02:55<00:43,  3.64s/it]"
     ]
    },
    {
     "name": "stdout",
     "output_type": "stream",
     "text": [
      "Clean Classification Accuracy:  92.29150428682775\n",
      "Attack Success Rate:  99.9913397419243\n",
      "Pruned Channel Index:  46\n",
      "401/401 [==============================] - 1s 4ms/step\n",
      "361/361 [==============================] - 1s 4ms/step\n"
     ]
    },
    {
     "name": "stderr",
     "output_type": "stream",
     "text": [
      " 82%|███████████████████████████████████        | 49/60 [02:58<00:38,  3.53s/it]"
     ]
    },
    {
     "name": "stdout",
     "output_type": "stream",
     "text": [
      "Clean Classification Accuracy:  91.8082618862042\n",
      "Attack Success Rate:  99.9913397419243\n",
      "Pruned Channel Index:  5\n",
      "401/401 [==============================] - 1s 4ms/step\n",
      "361/361 [==============================] - 1s 4ms/step\n"
     ]
    },
    {
     "name": "stderr",
     "output_type": "stream",
     "text": [
      " 83%|███████████████████████████████████▊       | 50/60 [03:02<00:34,  3.48s/it]"
     ]
    },
    {
     "name": "stdout",
     "output_type": "stream",
     "text": [
      "Clean Classification Accuracy:  91.30943102104443\n",
      "Attack Success Rate:  99.98267948384861\n",
      "Pruned Channel Index:  8\n",
      "401/401 [==============================] - 1s 4ms/step\n",
      "361/361 [==============================] - 1s 4ms/step\n"
     ]
    },
    {
     "name": "stderr",
     "output_type": "stream",
     "text": [
      " 85%|████████████████████████████████████▌      | 51/60 [03:05<00:32,  3.61s/it]"
     ]
    },
    {
     "name": "stdout",
     "output_type": "stream",
     "text": [
      "Clean Classification Accuracy:  89.84411535463757\n",
      "Attack Success Rate:  80.73958603966398\n",
      "Pruned Channel Index:  11\n",
      "401/401 [==============================] - 1s 4ms/step\n",
      "The accuracy drops by at least 10%, model is saved.\n",
      "WARNING:tensorflow:Compiled the loaded model, but the compiled metrics have yet to be built. `model.compile_metrics` will be empty until you train or evaluate the model.\n"
     ]
    },
    {
     "name": "stderr",
     "output_type": "stream",
     "text": [
      "WARNING:tensorflow:Compiled the loaded model, but the compiled metrics have yet to be built. `model.compile_metrics` will be empty until you train or evaluate the model.\n"
     ]
    },
    {
     "name": "stdout",
     "output_type": "stream",
     "text": [
      "361/361 [==============================] - 1s 4ms/step\n"
     ]
    },
    {
     "name": "stderr",
     "output_type": "stream",
     "text": [
      " 87%|█████████████████████████████████████▎     | 52/60 [03:09<00:28,  3.55s/it]"
     ]
    },
    {
     "name": "stdout",
     "output_type": "stream",
     "text": [
      "Clean Classification Accuracy:  84.54403741231489\n",
      "Attack Success Rate:  77.015675067117\n",
      "Pruned Channel Index:  54\n",
      "401/401 [==============================] - 2s 4ms/step\n",
      "361/361 [==============================] - 1s 4ms/step\n"
     ]
    },
    {
     "name": "stderr",
     "output_type": "stream",
     "text": [
      " 88%|█████████████████████████████████████▉     | 53/60 [03:12<00:24,  3.56s/it]"
     ]
    },
    {
     "name": "stdout",
     "output_type": "stream",
     "text": [
      "Clean Classification Accuracy:  76.30553390491036\n",
      "Attack Success Rate:  35.71490430414826\n",
      "Pruned Channel Index:  10\n",
      "401/401 [==============================] - 2s 4ms/step\n",
      "361/361 [==============================] - 1s 4ms/step\n"
     ]
    },
    {
     "name": "stderr",
     "output_type": "stream",
     "text": [
      " 90%|██████████████████████████████████████▋    | 54/60 [03:16<00:21,  3.62s/it]"
     ]
    },
    {
     "name": "stdout",
     "output_type": "stream",
     "text": [
      "Clean Classification Accuracy:  54.762275915822286\n",
      "Attack Success Rate:  6.954187234779596\n",
      "Pruned Channel Index:  28\n",
      "401/401 [==============================] - 1s 4ms/step\n",
      "361/361 [==============================] - 1s 4ms/step\n"
     ]
    },
    {
     "name": "stderr",
     "output_type": "stream",
     "text": [
      " 92%|███████████████████████████████████████▍   | 55/60 [03:20<00:17,  3.52s/it]"
     ]
    },
    {
     "name": "stdout",
     "output_type": "stream",
     "text": [
      "Clean Classification Accuracy:  27.10054559625877\n",
      "Attack Success Rate:  0.4243526457088421\n",
      "Pruned Channel Index:  35\n",
      "401/401 [==============================] - 2s 4ms/step\n",
      "361/361 [==============================] - 1s 4ms/step\n"
     ]
    },
    {
     "name": "stderr",
     "output_type": "stream",
     "text": [
      " 93%|████████████████████████████████████████▏  | 56/60 [03:23<00:14,  3.53s/it]"
     ]
    },
    {
     "name": "stdout",
     "output_type": "stream",
     "text": [
      "Clean Classification Accuracy:  13.756819953234606\n",
      "Attack Success Rate:  0.0\n",
      "Pruned Channel Index:  18\n",
      "401/401 [==============================] - 2s 4ms/step\n",
      "361/361 [==============================] - 1s 4ms/step\n",
      "Clean Classification Accuracy: "
     ]
    },
    {
     "name": "stderr",
     "output_type": "stream",
     "text": [
      " 95%|████████████████████████████████████████▊  | 57/60 [03:27<00:10,  3.61s/it]"
     ]
    },
    {
     "name": "stdout",
     "output_type": "stream",
     "text": [
      " 6.570537802026501\n",
      "Attack Success Rate:  0.0\n",
      "Pruned Channel Index:  4\n",
      "401/401 [==============================] - 2s 4ms/step\n",
      "361/361 [==============================] - 1s 4ms/step\n"
     ]
    },
    {
     "name": "stderr",
     "output_type": "stream",
     "text": [
      " 97%|█████████████████████████████████████████▌ | 58/60 [03:30<00:07,  3.55s/it]"
     ]
    },
    {
     "name": "stdout",
     "output_type": "stream",
     "text": [
      "Clean Classification Accuracy:  1.5198752922837102\n",
      "Attack Success Rate:  0.0\n",
      "Pruned Channel Index:  7\n",
      "401/401 [==============================] - 2s 4ms/step\n",
      "361/361 [==============================] - 1s 4ms/step\n"
     ]
    },
    {
     "name": "stderr",
     "output_type": "stream",
     "text": [
      " 98%|██████████████████████████████████████████▎| 59/60 [03:34<00:03,  3.52s/it]"
     ]
    },
    {
     "name": "stdout",
     "output_type": "stream",
     "text": [
      "Clean Classification Accuracy:  0.646921278254092\n",
      "Attack Success Rate:  0.0\n",
      "Pruned Channel Index:  52\n",
      "401/401 [==============================] - 2s 4ms/step\n",
      "361/361 [==============================] - 1s 4ms/step\n"
     ]
    },
    {
     "name": "stderr",
     "output_type": "stream",
     "text": [
      "100%|███████████████████████████████████████████| 60/60 [03:38<00:00,  3.63s/it]"
     ]
    },
    {
     "name": "stdout",
     "output_type": "stream",
     "text": [
      "Clean Classification Accuracy:  0.0779423226812159\n",
      "Attack Success Rate:  0.0\n",
      "Pruned Channel Index:  57\n"
     ]
    },
    {
     "name": "stderr",
     "output_type": "stream",
     "text": [
      "\n"
     ]
    }
   ],
   "source": [
    "clean_data_acc = 98.64899974019225\n",
    "model_copy = keras.models.clone_model(badnet_model)\n",
    "model_copy.set_weights(badnet_model.get_weights())\n",
    "prune_index = []\n",
    "clean_acc = []\n",
    "asrate = []\n",
    "saved_models = [False, False, False]\n",
    "\n",
    "# Getting the activation from the last pooling layer\n",
    "layer_output = model_copy.get_layer('pool_3').output\n",
    "interm_model = keras.models.Model(inputs=model_copy.input, outputs=layer_output)\n",
    "interm_prediction = interm_model.predict(cl_x_test)\n",
    "temp = np.mean(interm_prediction, axis=(0, 1, 2))\n",
    "seq = np.argsort(temp)\n",
    "weight_0 = model_copy.layers[5].get_weights()[0]\n",
    "bias_0 = model_copy.layers[5].get_weights()[1]\n",
    "\n",
    "for channel_index in tqdm(seq):\n",
    "    weight_0[:, :, :, channel_index] = 0\n",
    "    bias_0[channel_index] = 0\n",
    "    model_copy.layers[5].set_weights([weight_0, bias_0])\n",
    "    cl_label_pred = np.argmax(model_copy.predict(cl_x_test), axis=1)\n",
    "    cl_accuracy = np.mean(np.equal(cl_label_pred, cl_y_test)) * 100\n",
    "    \n",
    "    for i, threshold in enumerate([2, 4, 10]):\n",
    "        if (clean_data_acc - cl_accuracy >= threshold) and not saved_models[i]:\n",
    "            print(f\"The accuracy drops by at least {threshold}%, model is saved.\")\n",
    "            model_copy.save(f'model_threshold_{threshold}.h5')\n",
    "            saved_models[i] = True\n",
    "\n",
    "    clean_acc.append(cl_accuracy)\n",
    "    bd_label_pred = np.argmax(model_copy.predict(bd_x_test), axis=1)\n",
    "    asr = np.mean(np.equal(bd_label_pred, bd_y_test)) * 100\n",
    "    asrate.append(asr)\n",
    "\n",
    "    # Display pruning information\n",
    "    print(\"Clean Classification Accuracy: \", cl_accuracy)\n",
    "    print(\"Attack Success Rate: \", asr)\n",
    "    print(\"Pruned Channel Index: \", channel_index)\n",
    "\n",
    "    # Clear the session at the end\n",
    "    keras.backend.clear_session()\n"
   ]
  },
  {
   "cell_type": "code",
   "execution_count": 207,
   "id": "85421a17",
   "metadata": {},
   "outputs": [
    {
     "data": {
      "image/png": "[encoded data removed]",
      "text/plain": [
       "<Figure size 1000x600 with 1 Axes>"
      ]
     },
     "metadata": {},
     "output_type": "display_data"
    }
   ],
   "source": [
    "# Plot Clean Accuracy and ASR vs Fraction of Pruned Channels\n",
    "pruned_fraction = np.arange(1,61)/60\n",
    "plt.figure(figsize=(10, 6))\n",
    "plt.plot(pruned_fraction, clean_acc, label='Clean Accuracy')\n",
    "plt.plot(pruned_fraction, asrate, label='ASR')\n",
    "plt.xlabel('Fraction of Pruned Channels')\n",
    "plt.ylabel('Accuracy / ASR (%)')\n",
    "plt.title('Clean Accuracy and ASR vs Fraction of Pruned Channels')\n",
    "plt.legend()\n",
    "plt.grid(True)\n",
    "plt.show()\n"
   ]
  },
  {
   "cell_type": "code",
   "execution_count": 208,
   "id": "ef2debf9",
   "metadata": {},
   "outputs": [
    {
     "name": "stdout",
     "output_type": "stream",
     "text": [
      "WARNING:tensorflow:No training configuration found in the save file, so the model was *not* compiled. Compile it manually.\n"
     ]
    },
    {
     "name": "stderr",
     "output_type": "stream",
     "text": [
      "WARNING:tensorflow:No training configuration found in the save file, so the model was *not* compiled. Compile it manually.\n"
     ]
    },
    {
     "name": "stdout",
     "output_type": "stream",
     "text": [
      "WARNING:tensorflow:No training configuration found in the save file, so the model was *not* compiled. Compile it manually.\n"
     ]
    },
    {
     "name": "stderr",
     "output_type": "stream",
     "text": [
      "WARNING:tensorflow:No training configuration found in the save file, so the model was *not* compiled. Compile it manually.\n"
     ]
    },
    {
     "name": "stdout",
     "output_type": "stream",
     "text": [
      "WARNING:tensorflow:No training configuration found in the save file, so the model was *not* compiled. Compile it manually.\n"
     ]
    },
    {
     "name": "stderr",
     "output_type": "stream",
     "text": [
      "WARNING:tensorflow:No training configuration found in the save file, so the model was *not* compiled. Compile it manually.\n"
     ]
    }
   ],
   "source": [
    "cl_test_data_path = r'/Users/yogyasharma/Downloads/Lab3/data/cl/test.h5'         \n",
    "bd_test_data_path = r'/Users/yogyasharma/Downloads/Lab3/data/bd/bd_test.h5' \n",
    "\n",
    "pruned_model_2_path = r'/Users/yogyasharma/model_threshold_2.h5'\n",
    "pruned_model_4_path = r'/Users/yogyasharma/model_threshold_4.h5'\n",
    "pruned_model_10_path = r'/Users/yogyasharma/model_threshold_10.h5'\n",
    "\n",
    "# Loading the pruned models\n",
    "pruned_model_2 = load_model(pruned_model_2_path)\n",
    "pruned_model_4 = load_model(pruned_model_4_path)\n",
    "pruned_model_10 = load_model(pruned_model_10_path)\n",
    "\n",
    "# Loading the test images\n",
    "def load_test_data(filepath):\n",
    "    data = h5py.File(filepath, 'r')\n",
    "    x_test = np.array(data['data'])\n",
    "    y_test = np.array(data['label'])\n",
    "    x_test = x_test.transpose((0, 2, 3, 1))\n",
    "    return x_test, y_test\n",
    "\n",
    "cl_x_test, cl_y_test = load_test_data(cl_test_data_path)\n",
    "bd_x_test, bd_y_test = load_test_data(bd_test_data_path)"
   ]
  },
  {
   "cell_type": "code",
   "execution_count": 209,
   "id": "26ff49c1",
   "metadata": {},
   "outputs": [
    {
     "name": "stdout",
     "output_type": "stream",
     "text": [
      "401/401 [==============================] - 2s 4ms/step\n",
      "401/401 [==============================] - 2s 4ms/step\n",
      "401/401 [==============================] - 2s 4ms/step\n",
      "401/401 [==============================] - 2s 4ms/step\n",
      "401/401 [==============================] - 2s 4ms/step\n",
      "401/401 [==============================] - 2s 4ms/step\n",
      "Clean Data Accuracy for pruned models:\n",
      "Model with 2% threshold: 95.90023382696803\n",
      "Model with 2% threshold: 92.29150428682775\n",
      "Model with 2% threshold: 84.54403741231489\n",
      "\n",
      "Attack Success Rate for pruned models:\n",
      "Model with 2% threshold: 100.0\n",
      "Model with 2% threshold: 99.98441153546376\n",
      "Model with 2% threshold: 77.20966484801247\n"
     ]
    }
   ],
   "source": [
    "# Make predictions on clean data\n",
    "pruned_clean_2 = np.argmax(pruned_model_2.predict(cl_x_test), axis = 1)\n",
    "pruned_clean_4 = np.argmax(pruned_model_4.predict(cl_x_test), axis = 1)\n",
    "pruned_clean_10 = np.argmax(pruned_model_10.predict(cl_x_test), axis = 1)\n",
    "\n",
    "# Make predictions on backdoored data\n",
    "pruned_bd_2 = np.argmax(pruned_model_2.predict(bd_x_test), axis = 1)\n",
    "pruned_bd_4 = np.argmax(pruned_model_4.predict(bd_x_test), axis = 1)\n",
    "pruned_bd_10 = np.argmax(pruned_model_10.predict(bd_x_test), axis = 1)\n",
    "\n",
    "# Evaluate clean data accuracy\n",
    "acc_clean_2 = np.mean(np.equal(pruned_clean_2, cl_y_test))\n",
    "acc_clean_4 = np.mean(np.equal(pruned_clean_4, cl_y_test))\n",
    "acc_clean_10 = np.mean(np.equal(pruned_clean_10, cl_y_test))\n",
    "\n",
    "# Evaluate ASR\n",
    "acc_bd_2 = np.mean(np.equal(pruned_bd_2, bd_y_test))\n",
    "acc_bd_4 = np.mean(np.equal(pruned_bd_4, bd_y_test))\n",
    "acc_bd_10 = np.mean(np.equal(pruned_bd_10, bd_y_test))\n",
    "\n",
    "print(\"Clean Data Accuracy for pruned models:\")\n",
    "print(f\"Model with 2% threshold: {acc_clean_2 * 100}\")\n",
    "print(f\"Model with 2% threshold: {acc_clean_4 * 100}\")\n",
    "print(f\"Model with 2% threshold: {acc_clean_10 * 100}\")\n",
    "\n",
    "print(\"\\nAttack Success Rate for pruned models:\")\n",
    "print(f\"Model with 2% threshold: {acc_bd_2 * 100}\")\n",
    "print(f\"Model with 2% threshold: {acc_bd_4 * 100}\")\n",
    "print(f\"Model with 2% threshold: {acc_bd_10 * 100}\")"
   ]
  },
  {
   "cell_type": "code",
   "execution_count": 210,
   "id": "f2e0f9a7",
   "metadata": {},
   "outputs": [
    {
     "data": {
      "image/png": "[encoded data removed]",
      "text/plain": [
       "<Figure size 1200x600 with 1 Axes>"
      ]
     },
     "metadata": {},
     "output_type": "display_data"
    }
   ],
   "source": [
    "# Define the data\n",
    "thresholds = [2, 4, 10]\n",
    "acc_clean_data = [acc_clean_2 * 100, acc_clean_4 * 100, acc_clean_10 * 100]\n",
    "acc_attack_success_rate = [acc_bd_2 * 100, acc_bd_4 * 100, acc_bd_10 * 100]\n",
    "\n",
    "bar_width = 0.35\n",
    "index = np.arange(len(thresholds))\n",
    "\n",
    "# Plot grouped bar chart with markers\n",
    "plt.figure(figsize=(12, 6))\n",
    "\n",
    "plt.bar(index, acc_clean_data, bar_width, color='blue', alpha=0.7, label='Clean Data Accuracy')\n",
    "plt.bar(index + bar_width, acc_attack_success_rate, bar_width, color='red', alpha=0.7, label='Attack Success Rate')\n",
    "\n",
    "# Add markers\n",
    "for i, value in enumerate(acc_clean_data):\n",
    "    plt.text(i, value + 1, f'{value:.2f}', ha='center', va='bottom')\n",
    "\n",
    "for i, value in enumerate(acc_attack_success_rate):\n",
    "    plt.text(i + bar_width, value + 1, f'{value:.2f}', ha='center', va='bottom')\n",
    "\n",
    "plt.xlabel('Pruning Thresholds')\n",
    "plt.ylabel('Accuracy (%)')\n",
    "plt.title('Clean Data Accuracy and Attack Success Rate for Pruned Models')\n",
    "plt.xticks(index + bar_width / 2, thresholds)\n",
    "plt.legend()\n",
    "\n",
    "plt.show()\n"
   ]
  },
  {
   "cell_type": "code",
   "execution_count": 211,
   "id": "a9c2036b",
   "metadata": {},
   "outputs": [],
   "source": [
    "class GoodNet(keras.Model):\n",
    "    def __init__(self, model_1, model_2):\n",
    "        super(GoodNet, self).__init__()\n",
    "        self.model_1 = model_1\n",
    "        self.model_2 = model_2\n",
    "\n",
    "    def predict(self, data):\n",
    "        pred1 = np.argmax(self.model_1.predict(data), axis=1)\n",
    "        pred2 = np.argmax(self.model_2.predict(data), axis=1)\n",
    "\n",
    "        pred = np.where(pred1 == pred2, pred1, 1283)\n",
    "        return pred"
   ]
  },
  {
   "cell_type": "code",
   "execution_count": 212,
   "id": "09709716",
   "metadata": {},
   "outputs": [],
   "source": [
    "badnet_model = keras.models.load_model(model_path)\n",
    "\n",
    "goodNet_2 = GoodNet(badnet_model, pruned_model_2)\n",
    "goodNet_4 = GoodNet(badnet_model, pruned_model_4)\n",
    "goodNet_10 = GoodNet(badnet_model, pruned_model_10)"
   ]
  },
  {
   "cell_type": "code",
   "execution_count": 213,
   "id": "25fc4a3f",
   "metadata": {},
   "outputs": [
    {
     "name": "stdout",
     "output_type": "stream",
     "text": [
      "401/401 [==============================] - 2s 4ms/step\n",
      "401/401 [==============================] - 2s 4ms/step\n",
      "401/401 [==============================] - 2s 4ms/step\n",
      "401/401 [==============================] - 1s 4ms/step\n",
      "401/401 [==============================] - 2s 4ms/step\n",
      "401/401 [==============================] - 2s 4ms/step\n",
      "401/401 [==============================] - 2s 4ms/step\n",
      "401/401 [==============================] - 1s 4ms/step\n",
      "401/401 [==============================] - 2s 4ms/step\n",
      "401/401 [==============================] - 2s 4ms/step\n",
      "401/401 [==============================] - 2s 4ms/step\n",
      "401/401 [==============================] - 2s 4ms/step\n",
      "Clean Data Accuracy for GoodNet:\n",
      "Model with 2% threshold: 95.74434918160561\n",
      "Model with 4% threshold: 92.1278254091972\n",
      "Model with 10% threshold: 84.3335931410756\n",
      "\n",
      "Attack Success Rate for GoodNet:\n",
      "Model with 2% threshold: 100.0\n",
      "Model with 4% threshold: 99.98441153546376\n",
      "Model with 10% threshold: 77.20966484801247\n"
     ]
    }
   ],
   "source": [
    "# Make predictions on clean data\n",
    "predictions_clean_2 = goodNet_2.predict(cl_x_test)\n",
    "predictions_clean_4 = goodNet_4.predict(cl_x_test)\n",
    "predictions_clean_10 = goodNet_10.predict(cl_x_test)\n",
    "\n",
    "# Make predictions on backdoored data\n",
    "predictions_bd_2 = goodNet_2.predict(bd_x_test)\n",
    "predictions_bd_4 = goodNet_4.predict(bd_x_test)\n",
    "predictions_bd_10 = goodNet_10.predict(bd_x_test)\n",
    "\n",
    "# Evaluate clean data accuracy\n",
    "acc_clean_2 = accuracy_score(cl_y_test, predictions_clean_2)\n",
    "acc_clean_4 = accuracy_score(cl_y_test, predictions_clean_4)\n",
    "acc_clean_10 = accuracy_score(cl_y_test, predictions_clean_10)\n",
    "\n",
    "# Evaluate ASR\n",
    "acc_bd_2 = accuracy_score(bd_y_test, predictions_bd_2)\n",
    "acc_bd_4 = accuracy_score(bd_y_test, predictions_bd_4)\n",
    "acc_bd_10 = accuracy_score(bd_y_test, predictions_bd_10)\n",
    "\n",
    "print(\"Clean Data Accuracy for GoodNet:\")\n",
    "print(f\"Model with 2% threshold: {acc_clean_2 * 100}\")\n",
    "print(f\"Model with 4% threshold: {acc_clean_4 * 100}\")\n",
    "print(f\"Model with 10% threshold: {acc_clean_10 * 100}\")\n",
    "\n",
    "print(\"\\nAttack Success Rate for GoodNet:\")\n",
    "print(f\"Model with 2% threshold: {acc_bd_2 * 100}\")\n",
    "print(f\"Model with 4% threshold: {acc_bd_4 * 100}\")\n",
    "print(f\"Model with 10% threshold: {acc_bd_10 * 100}\")\n"
   ]
  },
  {
   "cell_type": "code",
   "execution_count": 214,
   "id": "99f4dc44",
   "metadata": {},
   "outputs": [
    {
     "data": {
      "image/png": "[encoded data removed]",
      "text/plain": [
       "<Figure size 1200x600 with 1 Axes>"
      ]
     },
     "metadata": {},
     "output_type": "display_data"
    }
   ],
   "source": [
    "# Define the data\n",
    "thresholds = [2, 4, 10]\n",
    "acc_clean_data = [acc_clean_2 * 100, acc_clean_4 * 100, acc_clean_10 * 100]\n",
    "acc_attack_success_rate = [acc_bd_2 * 100, acc_bd_4 * 100, acc_bd_10 * 100]\n",
    "\n",
    "bar_width = 0.35\n",
    "index = np.arange(len(thresholds))\n",
    "\n",
    "# Plot grouped bar chart with markers\n",
    "plt.figure(figsize=(12, 6))\n",
    "\n",
    "plt.bar(index, acc_clean_data, bar_width, color='blue', alpha=0.7, label='Clean Data Accuracy')\n",
    "plt.bar(index + bar_width, acc_attack_success_rate, bar_width, color='red', alpha=0.7, label='Attack Success Rate')\n",
    "\n",
    "# Add markers\n",
    "for i, value in enumerate(acc_clean_data):\n",
    "    plt.text(i, value + 1, f'{value:.2f}', ha='center', va='bottom')\n",
    "\n",
    "for i, value in enumerate(acc_attack_success_rate):\n",
    "    plt.text(i + bar_width, value + 1, f'{value:.2f}', ha='center', va='bottom')\n",
    "\n",
    "plt.xlabel('Pruning Thresholds')\n",
    "plt.ylabel('Accuracy (%)')\n",
    "plt.title('Clean Data Accuracy and Attack Success Rate for GoodNet Models')\n",
    "plt.xticks(index + bar_width / 2, thresholds)\n",
    "plt.legend()\n",
    "\n",
    "plt.show()\n"
   ]
  },
  {
   "cell_type": "code",
   "execution_count": null,
   "id": "eac16dd7",
   "metadata": {},
   "outputs": [],
   "source": []
  }
 ],
 "metadata": {
  "kernelspec": {
   "display_name": "Python 3 (ipykernel)",
   "language": "python",
   "name": "python3"
  },
  "language_info": {
   "codemirror_mode": {
    "name": "ipython",
    "version": 3
   },
   "file_extension": ".py",
   "mimetype": "text/x-python",
   "name": "python",
   "nbconvert_exporter": "python",
   "pygments_lexer": "ipython3",
   "version": "3.11.5"
  }
 },
 "nbformat": 4,
 "nbformat_minor": 5
}
