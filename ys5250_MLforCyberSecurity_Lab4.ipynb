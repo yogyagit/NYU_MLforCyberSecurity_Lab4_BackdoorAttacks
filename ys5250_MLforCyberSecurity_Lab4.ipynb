{
 "cells": [
  {
   "cell_type": "code",
   "execution_count": 1,
   "id": "06be4b0b",
   "metadata": {},
   "outputs": [],
   "source": [
    "import keras\n",
    "import h5py\n",
    "import numpy as np\n",
    "from tqdm import tqdm\n",
    "from keras.models import Model\n",
    "from keras.models import load_model\n",
    "import matplotlib.pyplot as plt\n",
    "from sklearn.metrics import accuracy_score\n",
    "from keras.layers import Input, GlobalAveragePooling2D, Dense"
   ]
  },
  {
   "cell_type": "code",
   "execution_count": 2,
   "id": "23be5048",
   "metadata": {},
   "outputs": [
    {
     "name": "stdout",
     "output_type": "stream",
     "text": [
      "361/361 [==============================] - 1s 3ms/step\n",
      "Classification Accuracy on Clean Data: 98.64899974019225\n",
      "361/361 [==============================] - 1s 3ms/step\n",
      "Attack Success Rate: 100.0\n"
     ]
    }
   ],
   "source": [
    "cl_data_path = r'/Users/yogyasharma/Downloads/Lab3/data/cl/valid.h5'\n",
    "bd_data_path = r'/Users/yogyasharma/Downloads/Lab3/data/bd/bd_valid.h5'\n",
    "model_path = r'/Users/yogyasharma/Downloads/Lab3/models/bd_net.h5'\n",
    "\n",
    "def load_data(filepath):\n",
    "    data = h5py.File(filepath, 'r')\n",
    "    x_data = np.array(data['data'])\n",
    "    y_data = np.array(data['label'])\n",
    "    x_data = x_data.transpose((0, 2, 3, 1))\n",
    "    return x_data, y_data\n",
    "\n",
    "cl_x_valid, cl_y_valid = load_data(cl_data_path)\n",
    "bd_x_valid, bd_y_valid = load_data(bd_data_path)\n",
    "\n",
    "badnet_model = keras.models.load_model(model_path)\n",
    "\n",
    "clean_label_pred = np.argmax(badnet_model.predict(cl_x_valid), axis=1)\n",
    "cl_clf_acc = np.mean(np.equal(clean_label_pred, cl_y_valid)) * 100\n",
    "print('Classification Accuracy on Clean Data:', cl_clf_acc)\n",
    "\n",
    "bd_label_pred = np.argmax(badnet_model.predict(bd_x_valid), axis=1)\n",
    "attack_success_rate = np.mean(np.equal(bd_label_pred, bd_y_valid)) * 100\n",
    "print('Attack Success Rate:', attack_success_rate)\n"
   ]
  },
  {
   "cell_type": "code",
   "execution_count": 3,
   "id": "6bc6cc30",
   "metadata": {},
   "outputs": [
    {
     "name": "stdout",
     "output_type": "stream",
     "text": [
      "Model: \"model_1\"\n",
      "__________________________________________________________________________________________________\n",
      " Layer (type)                Output Shape                 Param #   Connected to                  \n",
      "==================================================================================================\n",
      " input (InputLayer)          [(None, 55, 47, 3)]          0         []                            \n",
      "                                                                                                  \n",
      " conv_1 (Conv2D)             (None, 52, 44, 20)           980       ['input[0][0]']               \n",
      "                                                                                                  \n",
      " pool_1 (MaxPooling2D)       (None, 26, 22, 20)           0         ['conv_1[0][0]']              \n",
      "                                                                                                  \n",
      " conv_2 (Conv2D)             (None, 24, 20, 40)           7240      ['pool_1[0][0]']              \n",
      "                                                                                                  \n",
      " pool_2 (MaxPooling2D)       (None, 12, 10, 40)           0         ['conv_2[0][0]']              \n",
      "                                                                                                  \n",
      " conv_3 (Conv2D)             (None, 10, 8, 60)            21660     ['pool_2[0][0]']              \n",
      "                                                                                                  \n",
      " pool_3 (MaxPooling2D)       (None, 5, 4, 60)             0         ['conv_3[0][0]']              \n",
      "                                                                                                  \n",
      " conv_4 (Conv2D)             (None, 4, 3, 80)             19280     ['pool_3[0][0]']              \n",
      "                                                                                                  \n",
      " flatten_1 (Flatten)         (None, 1200)                 0         ['pool_3[0][0]']              \n",
      "                                                                                                  \n",
      " flatten_2 (Flatten)         (None, 960)                  0         ['conv_4[0][0]']              \n",
      "                                                                                                  \n",
      " fc_1 (Dense)                (None, 160)                  192160    ['flatten_1[0][0]']           \n",
      "                                                                                                  \n",
      " fc_2 (Dense)                (None, 160)                  153760    ['flatten_2[0][0]']           \n",
      "                                                                                                  \n",
      " add_1 (Add)                 (None, 160)                  0         ['fc_1[0][0]',                \n",
      "                                                                     'fc_2[0][0]']                \n",
      "                                                                                                  \n",
      " activation_1 (Activation)   (None, 160)                  0         ['add_1[0][0]']               \n",
      "                                                                                                  \n",
      " output (Dense)              (None, 1283)                 206563    ['activation_1[0][0]']        \n",
      "                                                                                                  \n",
      "==================================================================================================\n",
      "Total params: 601643 (2.30 MB)\n",
      "Trainable params: 601643 (2.30 MB)\n",
      "Non-trainable params: 0 (0.00 Byte)\n",
      "__________________________________________________________________________________________________\n",
      "None\n"
     ]
    }
   ],
   "source": [
    "print(badnet_model.summary())"
   ]
  },
  {
   "cell_type": "code",
   "execution_count": 4,
   "id": "b0389572",
   "metadata": {},
   "outputs": [
    {
     "name": "stdout",
     "output_type": "stream",
     "text": [
      "361/361 [==============================] - 1s 3ms/step\n"
     ]
    },
    {
     "name": "stderr",
     "output_type": "stream",
     "text": [
      "  0%|                                                    | 0/60 [00:00<?, ?it/s]"
     ]
    },
    {
     "name": "stdout",
     "output_type": "stream",
     "text": [
      "361/361 [==============================] - 1s 3ms/step\n",
      "361/361 [==============================] - 1s 3ms/step\n"
     ]
    },
    {
     "name": "stderr",
     "output_type": "stream",
     "text": [
      "  2%|▋                                           | 1/60 [00:03<02:57,  3.01s/it]"
     ]
    },
    {
     "name": "stdout",
     "output_type": "stream",
     "text": [
      "Clean Classification Accuracy:  98.64899974019225\n",
      "Attack Success Rate:  100.0\n",
      "Pruned Channel Index:  0\n",
      "361/361 [==============================] - 1s 4ms/step\n",
      "361/361 [==============================] - 1s 3ms/step\n"
     ]
    },
    {
     "name": "stderr",
     "output_type": "stream",
     "text": [
      "  3%|█▍                                          | 2/60 [00:06<02:59,  3.09s/it]"
     ]
    },
    {
     "name": "stdout",
     "output_type": "stream",
     "text": [
      "Clean Classification Accuracy:  98.64899974019225\n",
      "Attack Success Rate:  100.0\n",
      "Pruned Channel Index:  26\n",
      "361/361 [==============================] - 1s 3ms/step\n",
      "361/361 [==============================] - 1s 3ms/step\n"
     ]
    },
    {
     "name": "stderr",
     "output_type": "stream",
     "text": [
      "  5%|██▏                                         | 3/60 [00:09<02:52,  3.03s/it]"
     ]
    },
    {
     "name": "stdout",
     "output_type": "stream",
     "text": [
      "Clean Classification Accuracy:  98.64899974019225\n",
      "Attack Success Rate:  100.0\n",
      "Pruned Channel Index:  27\n",
      "361/361 [==============================] - 1s 3ms/step\n",
      "361/361 [==============================] - 1s 3ms/step\n"
     ]
    },
    {
     "name": "stderr",
     "output_type": "stream",
     "text": [
      "  7%|██▉                                         | 4/60 [00:12<02:48,  3.01s/it]"
     ]
    },
    {
     "name": "stdout",
     "output_type": "stream",
     "text": [
      "Clean Classification Accuracy:  98.64899974019225\n",
      "Attack Success Rate:  100.0\n",
      "Pruned Channel Index:  30\n",
      "361/361 [==============================] - 1s 3ms/step\n",
      "361/361 [==============================] - 1s 3ms/step\n"
     ]
    },
    {
     "name": "stderr",
     "output_type": "stream",
     "text": [
      "  8%|███▋                                        | 5/60 [00:15<02:44,  3.00s/it]"
     ]
    },
    {
     "name": "stdout",
     "output_type": "stream",
     "text": [
      "Clean Classification Accuracy:  98.64899974019225\n",
      "Attack Success Rate:  100.0\n",
      "Pruned Channel Index:  31\n",
      "361/361 [==============================] - 1s 3ms/step\n",
      "361/361 [==============================] - 1s 3ms/step\n"
     ]
    },
    {
     "name": "stderr",
     "output_type": "stream",
     "text": [
      " 10%|████▍                                       | 6/60 [00:18<02:41,  3.00s/it]"
     ]
    },
    {
     "name": "stdout",
     "output_type": "stream",
     "text": [
      "Clean Classification Accuracy:  98.64899974019225\n",
      "Attack Success Rate:  100.0\n",
      "Pruned Channel Index:  33\n",
      "361/361 [==============================] - 1s 3ms/step\n",
      "361/361 [==============================] - 1s 3ms/step\n"
     ]
    },
    {
     "name": "stderr",
     "output_type": "stream",
     "text": [
      " 12%|█████▏                                      | 7/60 [00:21<02:38,  2.99s/it]"
     ]
    },
    {
     "name": "stdout",
     "output_type": "stream",
     "text": [
      "Clean Classification Accuracy:  98.64899974019225\n",
      "Attack Success Rate:  100.0\n",
      "Pruned Channel Index:  34\n",
      "361/361 [==============================] - 1s 4ms/step\n",
      "361/361 [==============================] - 1s 3ms/step\n"
     ]
    },
    {
     "name": "stderr",
     "output_type": "stream",
     "text": [
      " 13%|█████▊                                      | 8/60 [00:24<02:36,  3.00s/it]"
     ]
    },
    {
     "name": "stdout",
     "output_type": "stream",
     "text": [
      "Clean Classification Accuracy:  98.64899974019225\n",
      "Attack Success Rate:  100.0\n",
      "Pruned Channel Index:  36\n",
      "361/361 [==============================] - 1s 3ms/step\n",
      "361/361 [==============================] - 1s 3ms/step\n"
     ]
    },
    {
     "name": "stderr",
     "output_type": "stream",
     "text": [
      " 15%|██████▌                                     | 9/60 [00:27<02:33,  3.01s/it]"
     ]
    },
    {
     "name": "stdout",
     "output_type": "stream",
     "text": [
      "Clean Classification Accuracy:  98.64899974019225\n",
      "Attack Success Rate:  100.0\n",
      "Pruned Channel Index:  37\n",
      "361/361 [==============================] - 1s 3ms/step\n",
      "361/361 [==============================] - 1s 4ms/step\n"
     ]
    },
    {
     "name": "stderr",
     "output_type": "stream",
     "text": [
      " 17%|███████▏                                   | 10/60 [00:30<02:31,  3.04s/it]"
     ]
    },
    {
     "name": "stdout",
     "output_type": "stream",
     "text": [
      "Clean Classification Accuracy:  98.64899974019225\n",
      "Attack Success Rate:  100.0\n",
      "Pruned Channel Index:  38\n",
      "361/361 [==============================] - 1s 4ms/step\n",
      "361/361 [==============================] - 1s 4ms/step\n"
     ]
    },
    {
     "name": "stderr",
     "output_type": "stream",
     "text": [
      " 18%|███████▉                                   | 11/60 [00:33<02:34,  3.15s/it]"
     ]
    },
    {
     "name": "stdout",
     "output_type": "stream",
     "text": [
      "Clean Classification Accuracy:  98.64899974019225\n",
      "Attack Success Rate:  100.0\n",
      "Pruned Channel Index:  25\n",
      "361/361 [==============================] - 1s 4ms/step\n",
      "361/361 [==============================] - 1s 3ms/step\n"
     ]
    },
    {
     "name": "stderr",
     "output_type": "stream",
     "text": [
      " 20%|████████▌                                  | 12/60 [00:36<02:34,  3.22s/it]"
     ]
    },
    {
     "name": "stdout",
     "output_type": "stream",
     "text": [
      "Clean Classification Accuracy:  98.64899974019225\n",
      "Attack Success Rate:  100.0\n",
      "Pruned Channel Index:  39\n",
      "361/361 [==============================] - 1s 3ms/step\n",
      "361/361 [==============================] - 1s 3ms/step\n"
     ]
    },
    {
     "name": "stderr",
     "output_type": "stream",
     "text": [
      " 22%|█████████▎                                 | 13/60 [00:39<02:28,  3.15s/it]"
     ]
    },
    {
     "name": "stdout",
     "output_type": "stream",
     "text": [
      "Clean Classification Accuracy:  98.64899974019225\n",
      "Attack Success Rate:  100.0\n",
      "Pruned Channel Index:  41\n",
      "361/361 [==============================] - 1s 3ms/step\n",
      "361/361 [==============================] - 1s 3ms/step\n"
     ]
    },
    {
     "name": "stderr",
     "output_type": "stream",
     "text": [
      " 23%|██████████                                 | 14/60 [00:43<02:24,  3.13s/it]"
     ]
    },
    {
     "name": "stdout",
     "output_type": "stream",
     "text": [
      "Clean Classification Accuracy:  98.64899974019225\n",
      "Attack Success Rate:  100.0\n",
      "Pruned Channel Index:  44\n",
      "361/361 [==============================] - 1s 4ms/step\n",
      "361/361 [==============================] - 1s 3ms/step\n"
     ]
    },
    {
     "name": "stderr",
     "output_type": "stream",
     "text": [
      " 25%|██████████▊                                | 15/60 [00:46<02:22,  3.17s/it]"
     ]
    },
    {
     "name": "stdout",
     "output_type": "stream",
     "text": [
      "Clean Classification Accuracy:  98.64899974019225\n",
      "Attack Success Rate:  100.0\n",
      "Pruned Channel Index:  45\n",
      "361/361 [==============================] - 1s 3ms/step\n",
      "361/361 [==============================] - 1s 3ms/step\n",
      "Clean Classification Accuracy:  98.64899974019225\n",
      "Attack Success Rate:  100.0\n",
      "Pruned Channel Index:  47\n"
     ]
    },
    {
     "name": "stderr",
     "output_type": "stream",
     "text": [
      " 27%|███████████▍                               | 16/60 [00:49<02:17,  3.12s/it]"
     ]
    },
    {
     "name": "stdout",
     "output_type": "stream",
     "text": [
      "361/361 [==============================] - 1s 3ms/step\n",
      "361/361 [==============================] - 1s 4ms/step\n"
     ]
    },
    {
     "name": "stderr",
     "output_type": "stream",
     "text": [
      " 28%|████████████▏                              | 17/60 [00:52<02:13,  3.11s/it]"
     ]
    },
    {
     "name": "stdout",
     "output_type": "stream",
     "text": [
      "Clean Classification Accuracy:  98.64899974019225\n",
      "Attack Success Rate:  100.0\n",
      "Pruned Channel Index:  48\n",
      "361/361 [==============================] - 1s 4ms/step\n",
      "361/361 [==============================] - 1s 4ms/step\n"
     ]
    },
    {
     "name": "stderr",
     "output_type": "stream",
     "text": [
      " 30%|████████████▉                              | 18/60 [00:55<02:15,  3.22s/it]"
     ]
    },
    {
     "name": "stdout",
     "output_type": "stream",
     "text": [
      "Clean Classification Accuracy:  98.64899974019225\n",
      "Attack Success Rate:  100.0\n",
      "Pruned Channel Index:  49\n",
      "361/361 [==============================] - 1s 4ms/step\n",
      "361/361 [==============================] - 1s 4ms/step\n"
     ]
    },
    {
     "name": "stderr",
     "output_type": "stream",
     "text": [
      " 32%|█████████████▌                             | 19/60 [00:59<02:13,  3.25s/it]"
     ]
    },
    {
     "name": "stdout",
     "output_type": "stream",
     "text": [
      "Clean Classification Accuracy:  98.64899974019225\n",
      "Attack Success Rate:  100.0\n",
      "Pruned Channel Index:  50\n",
      "361/361 [==============================] - 1s 4ms/step\n",
      "361/361 [==============================] - 1s 4ms/step\n"
     ]
    },
    {
     "name": "stderr",
     "output_type": "stream",
     "text": [
      " 33%|██████████████▎                            | 20/60 [01:02<02:14,  3.35s/it]"
     ]
    },
    {
     "name": "stdout",
     "output_type": "stream",
     "text": [
      "Clean Classification Accuracy:  98.64899974019225\n",
      "Attack Success Rate:  100.0\n",
      "Pruned Channel Index:  53\n",
      "361/361 [==============================] - 1s 4ms/step\n",
      "361/361 [==============================] - 1s 4ms/step\n"
     ]
    },
    {
     "name": "stderr",
     "output_type": "stream",
     "text": [
      " 35%|███████████████                            | 21/60 [01:06<02:11,  3.37s/it]"
     ]
    },
    {
     "name": "stdout",
     "output_type": "stream",
     "text": [
      "Clean Classification Accuracy:  98.64899974019225\n",
      "Attack Success Rate:  100.0\n",
      "Pruned Channel Index:  55\n",
      "361/361 [==============================] - 1s 4ms/step\n",
      "361/361 [==============================] - 1s 3ms/step\n",
      "Clean Classification Accuracy:  98.64899974019225\n",
      "Attack Success Rate:  100.0\n",
      "Pruned Channel Index:  40\n"
     ]
    },
    {
     "name": "stderr",
     "output_type": "stream",
     "text": [
      " 37%|███████████████▊                           | 22/60 [01:09<02:05,  3.29s/it]"
     ]
    },
    {
     "name": "stdout",
     "output_type": "stream",
     "text": [
      "361/361 [==============================] - 1s 3ms/step\n",
      "361/361 [==============================] - 1s 4ms/step\n"
     ]
    },
    {
     "name": "stderr",
     "output_type": "stream",
     "text": [
      " 38%|████████████████▍                          | 23/60 [01:12<02:03,  3.34s/it]"
     ]
    },
    {
     "name": "stdout",
     "output_type": "stream",
     "text": [
      "Clean Classification Accuracy:  98.64899974019225\n",
      "Attack Success Rate:  100.0\n",
      "Pruned Channel Index:  24\n",
      "361/361 [==============================] - 1s 4ms/step\n",
      "361/361 [==============================] - 1s 4ms/step\n"
     ]
    },
    {
     "name": "stderr",
     "output_type": "stream",
     "text": [
      " 40%|█████████████████▏                         | 24/60 [01:16<02:00,  3.34s/it]"
     ]
    },
    {
     "name": "stdout",
     "output_type": "stream",
     "text": [
      "Clean Classification Accuracy:  98.64899974019225\n",
      "Attack Success Rate:  100.0\n",
      "Pruned Channel Index:  59\n",
      "361/361 [==============================] - 1s 4ms/step\n",
      "361/361 [==============================] - 1s 4ms/step\n"
     ]
    },
    {
     "name": "stderr",
     "output_type": "stream",
     "text": [
      " 42%|█████████████████▉                         | 25/60 [01:19<01:55,  3.30s/it]"
     ]
    },
    {
     "name": "stdout",
     "output_type": "stream",
     "text": [
      "Clean Classification Accuracy:  98.64899974019225\n",
      "Attack Success Rate:  100.0\n",
      "Pruned Channel Index:  9\n",
      "361/361 [==============================] - 1s 4ms/step\n",
      "361/361 [==============================] - 1s 3ms/step\n"
     ]
    },
    {
     "name": "stderr",
     "output_type": "stream",
     "text": [
      " 43%|██████████████████▋                        | 26/60 [01:23<01:57,  3.46s/it]"
     ]
    },
    {
     "name": "stdout",
     "output_type": "stream",
     "text": [
      "Clean Classification Accuracy:  98.64899974019225\n",
      "Attack Success Rate:  100.0\n",
      "Pruned Channel Index:  2\n",
      "361/361 [==============================] - 1s 4ms/step\n",
      "361/361 [==============================] - 1s 4ms/step\n"
     ]
    },
    {
     "name": "stderr",
     "output_type": "stream",
     "text": [
      " 45%|███████████████████▎                       | 27/60 [01:26<01:54,  3.46s/it]"
     ]
    },
    {
     "name": "stdout",
     "output_type": "stream",
     "text": [
      "Clean Classification Accuracy:  98.64899974019225\n",
      "Attack Success Rate:  100.0\n",
      "Pruned Channel Index:  12\n",
      "361/361 [==============================] - 1s 4ms/step\n",
      "361/361 [==============================] - 1s 3ms/step\n"
     ]
    },
    {
     "name": "stderr",
     "output_type": "stream",
     "text": [
      " 47%|████████████████████                       | 28/60 [01:29<01:48,  3.39s/it]"
     ]
    },
    {
     "name": "stdout",
     "output_type": "stream",
     "text": [
      "Clean Classification Accuracy:  98.64899974019225\n",
      "Attack Success Rate:  100.0\n",
      "Pruned Channel Index:  13\n",
      "361/361 [==============================] - 1s 3ms/step\n",
      "361/361 [==============================] - 1s 3ms/step\n"
     ]
    },
    {
     "name": "stderr",
     "output_type": "stream",
     "text": [
      " 48%|████████████████████▊                      | 29/60 [01:33<01:46,  3.42s/it]"
     ]
    },
    {
     "name": "stdout",
     "output_type": "stream",
     "text": [
      "Clean Classification Accuracy:  98.64899974019225\n",
      "Attack Success Rate:  100.0\n",
      "Pruned Channel Index:  17\n",
      "361/361 [==============================] - 1s 3ms/step\n",
      "361/361 [==============================] - 1s 3ms/step\n"
     ]
    },
    {
     "name": "stderr",
     "output_type": "stream",
     "text": [
      " 50%|█████████████████████▌                     | 30/60 [01:36<01:42,  3.42s/it]"
     ]
    },
    {
     "name": "stdout",
     "output_type": "stream",
     "text": [
      "Clean Classification Accuracy:  98.64899974019225\n",
      "Attack Success Rate:  100.0\n",
      "Pruned Channel Index:  14\n",
      "361/361 [==============================] - 1s 4ms/step\n",
      "361/361 [==============================] - 2s 4ms/step\n"
     ]
    },
    {
     "name": "stderr",
     "output_type": "stream",
     "text": [
      " 52%|██████████████████████▏                    | 31/60 [01:40<01:42,  3.52s/it]"
     ]
    },
    {
     "name": "stdout",
     "output_type": "stream",
     "text": [
      "Clean Classification Accuracy:  98.64899974019225\n",
      "Attack Success Rate:  100.0\n",
      "Pruned Channel Index:  15\n",
      "361/361 [==============================] - 1s 4ms/step\n",
      "361/361 [==============================] - 1s 3ms/step\n"
     ]
    },
    {
     "name": "stderr",
     "output_type": "stream",
     "text": [
      " 53%|██████████████████████▉                    | 32/60 [01:44<01:43,  3.69s/it]"
     ]
    },
    {
     "name": "stdout",
     "output_type": "stream",
     "text": [
      "Clean Classification Accuracy:  98.64899974019225\n",
      "Attack Success Rate:  100.0\n",
      "Pruned Channel Index:  23\n",
      "361/361 [==============================] - 1s 3ms/step\n",
      "361/361 [==============================] - 1s 4ms/step\n"
     ]
    },
    {
     "name": "stderr",
     "output_type": "stream",
     "text": [
      " 55%|███████████████████████▋                   | 33/60 [01:48<01:37,  3.62s/it]"
     ]
    },
    {
     "name": "stdout",
     "output_type": "stream",
     "text": [
      "Clean Classification Accuracy:  98.64899974019225\n",
      "Attack Success Rate:  100.0\n",
      "Pruned Channel Index:  6\n",
      "361/361 [==============================] - 1s 4ms/step\n",
      "361/361 [==============================] - 1s 3ms/step\n"
     ]
    },
    {
     "name": "stderr",
     "output_type": "stream",
     "text": [
      " 57%|████████████████████████▎                  | 34/60 [01:51<01:30,  3.47s/it]"
     ]
    },
    {
     "name": "stdout",
     "output_type": "stream",
     "text": [
      "Clean Classification Accuracy:  98.64033948211657\n",
      "Attack Success Rate:  100.0\n",
      "Pruned Channel Index:  51\n",
      "361/361 [==============================] - 1s 3ms/step\n",
      "361/361 [==============================] - 1s 4ms/step\n"
     ]
    },
    {
     "name": "stderr",
     "output_type": "stream",
     "text": [
      " 58%|█████████████████████████                  | 35/60 [01:54<01:25,  3.43s/it]"
     ]
    },
    {
     "name": "stdout",
     "output_type": "stream",
     "text": [
      "Clean Classification Accuracy:  98.64033948211657\n",
      "Attack Success Rate:  100.0\n",
      "Pruned Channel Index:  32\n",
      "361/361 [==============================] - 1s 3ms/step\n",
      "361/361 [==============================] - 1s 3ms/step\n"
     ]
    },
    {
     "name": "stderr",
     "output_type": "stream",
     "text": [
      " 60%|█████████████████████████▊                 | 36/60 [01:57<01:20,  3.37s/it]"
     ]
    },
    {
     "name": "stdout",
     "output_type": "stream",
     "text": [
      "Clean Classification Accuracy:  98.63167922404088\n",
      "Attack Success Rate:  100.0\n",
      "Pruned Channel Index:  22\n",
      "361/361 [==============================] - 1s 3ms/step\n",
      "361/361 [==============================] - 1s 3ms/step\n"
     ]
    },
    {
     "name": "stderr",
     "output_type": "stream",
     "text": [
      " 62%|██████████████████████████▌                | 37/60 [02:00<01:16,  3.32s/it]"
     ]
    },
    {
     "name": "stdout",
     "output_type": "stream",
     "text": [
      "Clean Classification Accuracy:  98.65765999826795\n",
      "Attack Success Rate:  100.0\n",
      "Pruned Channel Index:  21\n",
      "361/361 [==============================] - 1s 3ms/step\n",
      "361/361 [==============================] - 1s 3ms/step\n"
     ]
    },
    {
     "name": "stderr",
     "output_type": "stream",
     "text": [
      " 63%|███████████████████████████▏               | 38/60 [02:04<01:13,  3.36s/it]"
     ]
    },
    {
     "name": "stdout",
     "output_type": "stream",
     "text": [
      "Clean Classification Accuracy:  98.64899974019225\n",
      "Attack Success Rate:  100.0\n",
      "Pruned Channel Index:  20\n",
      "361/361 [==============================] - 1s 3ms/step\n",
      "361/361 [==============================] - 1s 3ms/step\n"
     ]
    },
    {
     "name": "stderr",
     "output_type": "stream",
     "text": [
      " 65%|███████████████████████████▉               | 39/60 [02:07<01:10,  3.36s/it]"
     ]
    },
    {
     "name": "stdout",
     "output_type": "stream",
     "text": [
      "Clean Classification Accuracy:  98.6056984498138\n",
      "Attack Success Rate:  100.0\n",
      "Pruned Channel Index:  19\n",
      "361/361 [==============================] - 1s 3ms/step\n",
      "361/361 [==============================] - 1s 3ms/step\n"
     ]
    },
    {
     "name": "stderr",
     "output_type": "stream",
     "text": [
      " 67%|████████████████████████████▋              | 40/60 [02:10<01:05,  3.26s/it]"
     ]
    },
    {
     "name": "stdout",
     "output_type": "stream",
     "text": [
      "Clean Classification Accuracy:  98.57105741751104\n",
      "Attack Success Rate:  100.0\n",
      "Pruned Channel Index:  43\n",
      "361/361 [==============================] - 1s 4ms/step\n",
      "361/361 [==============================] - 1s 4ms/step\n"
     ]
    },
    {
     "name": "stderr",
     "output_type": "stream",
     "text": [
      " 68%|█████████████████████████████▍             | 41/60 [02:14<01:05,  3.45s/it]"
     ]
    },
    {
     "name": "stdout",
     "output_type": "stream",
     "text": [
      "Clean Classification Accuracy:  98.53641638520828\n",
      "Attack Success Rate:  100.0\n",
      "Pruned Channel Index:  58\n",
      "361/361 [==============================] - 1s 4ms/step\n",
      "361/361 [==============================] - 1s 4ms/step\n"
     ]
    },
    {
     "name": "stderr",
     "output_type": "stream",
     "text": [
      " 70%|██████████████████████████████             | 42/60 [02:18<01:03,  3.55s/it]"
     ]
    },
    {
     "name": "stdout",
     "output_type": "stream",
     "text": [
      "Clean Classification Accuracy:  98.19000606218066\n",
      "Attack Success Rate:  100.0\n",
      "Pruned Channel Index:  3\n",
      "361/361 [==============================] - 1s 4ms/step\n",
      "361/361 [==============================] - 1s 4ms/step\n"
     ]
    },
    {
     "name": "stderr",
     "output_type": "stream",
     "text": [
      " 72%|██████████████████████████████▊            | 43/60 [02:21<00:58,  3.45s/it]"
     ]
    },
    {
     "name": "stdout",
     "output_type": "stream",
     "text": [
      "Clean Classification Accuracy:  97.65307006148784\n",
      "Attack Success Rate:  100.0\n",
      "Pruned Channel Index:  42\n",
      "361/361 [==============================] - 1s 3ms/step\n",
      "361/361 [==============================] - 1s 3ms/step\n"
     ]
    },
    {
     "name": "stderr",
     "output_type": "stream",
     "text": [
      " 73%|███████████████████████████████▌           | 44/60 [02:24<00:53,  3.36s/it]"
     ]
    },
    {
     "name": "stdout",
     "output_type": "stream",
     "text": [
      "Clean Classification Accuracy:  97.50584567420108\n",
      "Attack Success Rate:  100.0\n",
      "Pruned Channel Index:  1\n",
      "361/361 [==============================] - 1s 3ms/step\n",
      "The accuracy drops by at least 2%, model is saved.\n",
      "WARNING:tensorflow:Compiled the loaded model, but the compiled metrics have yet to be built. `model.compile_metrics` will be empty until you train or evaluate the model.\n"
     ]
    },
    {
     "name": "stderr",
     "output_type": "stream",
     "text": [
      "/Users/yogyasharma/anaconda3/lib/python3.11/site-packages/keras/src/engine/training.py:3103: UserWarning: You are saving your model as an HDF5 file via `model.save()`. This file format is considered legacy. We recommend using instead the native Keras format, e.g. `model.save('my_model.keras')`.\n",
      "  saving_api.save_model(\n"
     ]
    },
    {
     "name": "stdout",
     "output_type": "stream",
     "text": [
      "361/361 [==============================] - 1s 3ms/step\n"
     ]
    },
    {
     "name": "stderr",
     "output_type": "stream",
     "text": [
      " 75%|████████████████████████████████▎          | 45/60 [02:28<00:50,  3.39s/it]"
     ]
    },
    {
     "name": "stdout",
     "output_type": "stream",
     "text": [
      "Clean Classification Accuracy:  95.75647354291158\n",
      "Attack Success Rate:  100.0\n",
      "Pruned Channel Index:  29\n",
      "361/361 [==============================] - 1s 3ms/step\n",
      "361/361 [==============================] - 1s 3ms/step\n"
     ]
    },
    {
     "name": "stderr",
     "output_type": "stream",
     "text": [
      " 77%|████████████████████████████████▉          | 46/60 [02:31<00:45,  3.28s/it]"
     ]
    },
    {
     "name": "stdout",
     "output_type": "stream",
     "text": [
      "Clean Classification Accuracy:  95.20221702606739\n",
      "Attack Success Rate:  99.9913397419243\n",
      "Pruned Channel Index:  16\n",
      "361/361 [==============================] - 1s 3ms/step\n",
      "361/361 [==============================] - 1s 3ms/step\n"
     ]
    },
    {
     "name": "stderr",
     "output_type": "stream",
     "text": [
      " 78%|█████████████████████████████████▋         | 47/60 [02:34<00:43,  3.36s/it]"
     ]
    },
    {
     "name": "stdout",
     "output_type": "stream",
     "text": [
      "Clean Classification Accuracy:  94.7172425738287\n",
      "Attack Success Rate:  99.9913397419243\n",
      "Pruned Channel Index:  56\n",
      "361/361 [==============================] - 1s 4ms/step\n",
      "The accuracy drops by at least 4%, model is saved.\n",
      "WARNING:tensorflow:Compiled the loaded model, but the compiled metrics have yet to be built. `model.compile_metrics` will be empty until you train or evaluate the model.\n",
      "361/361 [==============================] - 1s 4ms/step\n"
     ]
    },
    {
     "name": "stderr",
     "output_type": "stream",
     "text": [
      " 80%|██████████████████████████████████▍        | 48/60 [02:38<00:40,  3.36s/it]"
     ]
    },
    {
     "name": "stdout",
     "output_type": "stream",
     "text": [
      "Clean Classification Accuracy:  92.09318437689443\n",
      "Attack Success Rate:  99.9913397419243\n",
      "Pruned Channel Index:  46\n",
      "361/361 [==============================] - 1s 3ms/step\n",
      "361/361 [==============================] - 1s 3ms/step\n"
     ]
    },
    {
     "name": "stderr",
     "output_type": "stream",
     "text": [
      " 82%|███████████████████████████████████        | 49/60 [02:41<00:36,  3.31s/it]"
     ]
    },
    {
     "name": "stdout",
     "output_type": "stream",
     "text": [
      "Clean Classification Accuracy:  91.49562656967177\n",
      "Attack Success Rate:  99.9913397419243\n",
      "Pruned Channel Index:  5\n",
      "361/361 [==============================] - 1s 4ms/step\n",
      "361/361 [==============================] - 1s 3ms/step\n"
     ]
    },
    {
     "name": "stderr",
     "output_type": "stream",
     "text": [
      " 83%|███████████████████████████████████▊       | 50/60 [02:45<00:34,  3.45s/it]"
     ]
    },
    {
     "name": "stdout",
     "output_type": "stream",
     "text": [
      "Clean Classification Accuracy:  91.01931237550879\n",
      "Attack Success Rate:  99.98267948384861\n",
      "Pruned Channel Index:  8\n",
      "361/361 [==============================] - 2s 5ms/step\n",
      "361/361 [==============================] - 1s 4ms/step\n",
      "Clean Classification Accuracy:  89.17467740538669\n",
      "Attack Success Rate:  80.73958603966398\n",
      "Pruned Channel Index:  11\n"
     ]
    },
    {
     "name": "stderr",
     "output_type": "stream",
     "text": [
      " 85%|████████████████████████████████████▌      | 51/60 [02:49<00:32,  3.66s/it]"
     ]
    },
    {
     "name": "stdout",
     "output_type": "stream",
     "text": [
      "361/361 [==============================] - 1s 4ms/step\n",
      "The accuracy drops by at least 10%, model is saved.\n",
      "WARNING:tensorflow:Compiled the loaded model, but the compiled metrics have yet to be built. `model.compile_metrics` will be empty until you train or evaluate the model.\n",
      "361/361 [==============================] - 1s 4ms/step\n"
     ]
    },
    {
     "name": "stderr",
     "output_type": "stream",
     "text": [
      " 87%|█████████████████████████████████████▎     | 52/60 [02:52<00:29,  3.64s/it]"
     ]
    },
    {
     "name": "stdout",
     "output_type": "stream",
     "text": [
      "Clean Classification Accuracy:  84.43751623798389\n",
      "Attack Success Rate:  77.015675067117\n",
      "Pruned Channel Index:  54\n",
      "361/361 [==============================] - 1s 4ms/step\n",
      "361/361 [==============================] - 2s 4ms/step\n"
     ]
    },
    {
     "name": "stderr",
     "output_type": "stream",
     "text": [
      " 88%|█████████████████████████████████████▉     | 53/60 [02:56<00:26,  3.75s/it]"
     ]
    },
    {
     "name": "stdout",
     "output_type": "stream",
     "text": [
      "Clean Classification Accuracy:  76.48739932449988\n",
      "Attack Success Rate:  35.71490430414826\n",
      "Pruned Channel Index:  10\n",
      "361/361 [==============================] - 2s 4ms/step\n",
      "361/361 [==============================] - 1s 4ms/step\n"
     ]
    },
    {
     "name": "stderr",
     "output_type": "stream",
     "text": [
      " 90%|██████████████████████████████████████▋    | 54/60 [03:01<00:23,  3.89s/it]"
     ]
    },
    {
     "name": "stdout",
     "output_type": "stream",
     "text": [
      "Clean Classification Accuracy:  54.8627349095003\n",
      "Attack Success Rate:  6.954187234779596\n",
      "Pruned Channel Index:  28\n",
      "361/361 [==============================] - 1s 4ms/step\n",
      "361/361 [==============================] - 1s 4ms/step\n"
     ]
    },
    {
     "name": "stderr",
     "output_type": "stream",
     "text": [
      " 92%|███████████████████████████████████████▍   | 55/60 [03:04<00:19,  3.82s/it]"
     ]
    },
    {
     "name": "stdout",
     "output_type": "stream",
     "text": [
      "Clean Classification Accuracy:  27.08928726076037\n",
      "Attack Success Rate:  0.4243526457088421\n",
      "Pruned Channel Index:  35\n",
      "361/361 [==============================] - 1s 4ms/step\n",
      "361/361 [==============================] - 1s 4ms/step\n"
     ]
    },
    {
     "name": "stderr",
     "output_type": "stream",
     "text": [
      " 93%|████████████████████████████████████████▏  | 56/60 [03:08<00:15,  3.81s/it]"
     ]
    },
    {
     "name": "stdout",
     "output_type": "stream",
     "text": [
      "Clean Classification Accuracy:  13.87373343725643\n",
      "Attack Success Rate:  0.0\n",
      "Pruned Channel Index:  18\n",
      "361/361 [==============================] - 1s 4ms/step\n",
      "361/361 [==============================] - 1s 4ms/step\n"
     ]
    },
    {
     "name": "stderr",
     "output_type": "stream",
     "text": [
      " 95%|████████████████████████████████████████▊  | 57/60 [03:12<00:11,  3.85s/it]"
     ]
    },
    {
     "name": "stdout",
     "output_type": "stream",
     "text": [
      "Clean Classification Accuracy:  7.101411622066338\n",
      "Attack Success Rate:  0.0\n",
      "Pruned Channel Index:  4\n",
      "361/361 [==============================] - 1s 4ms/step\n",
      "361/361 [==============================] - 1s 4ms/step\n"
     ]
    },
    {
     "name": "stderr",
     "output_type": "stream",
     "text": [
      " 97%|█████████████████████████████████████████▌ | 58/60 [03:16<00:07,  3.74s/it]"
     ]
    },
    {
     "name": "stdout",
     "output_type": "stream",
     "text": [
      "Clean Classification Accuracy:  1.5501861955486274\n",
      "Attack Success Rate:  0.0\n",
      "Pruned Channel Index:  7\n",
      "361/361 [==============================] - 1s 4ms/step\n",
      "361/361 [==============================] - 1s 4ms/step\n"
     ]
    },
    {
     "name": "stderr",
     "output_type": "stream",
     "text": [
      " 98%|██████████████████████████████████████████▎| 59/60 [03:20<00:03,  3.83s/it]"
     ]
    },
    {
     "name": "stdout",
     "output_type": "stream",
     "text": [
      "Clean Classification Accuracy:  0.7188014202823244\n",
      "Attack Success Rate:  0.0\n",
      "Pruned Channel Index:  52\n",
      "361/361 [==============================] - 1s 4ms/step\n",
      "361/361 [==============================] - 1s 4ms/step\n"
     ]
    },
    {
     "name": "stderr",
     "output_type": "stream",
     "text": [
      "100%|███████████████████████████████████████████| 60/60 [03:23<00:00,  3.40s/it]"
     ]
    },
    {
     "name": "stdout",
     "output_type": "stream",
     "text": [
      "Clean Classification Accuracy:  0.0779423226812159\n",
      "Attack Success Rate:  0.0\n",
      "Pruned Channel Index:  57\n"
     ]
    },
    {
     "name": "stderr",
     "output_type": "stream",
     "text": [
      "\n"
     ]
    }
   ],
   "source": [
    "clean_data_acc = cl_clf_acc\n",
    "model_copy = keras.models.clone_model(badnet_model)\n",
    "model_copy.set_weights(badnet_model.get_weights())\n",
    "prune_index = []\n",
    "clean_acc = []\n",
    "asrate = []\n",
    "saved_models = [False, False, False]\n",
    "\n",
    "# Getting the activation from the last pooling layer\n",
    "layer_output = model_copy.get_layer('pool_3').output\n",
    "interm_model = keras.models.Model(inputs=model_copy.input, outputs=layer_output)\n",
    "interm_prediction = interm_model.predict(cl_x_valid)\n",
    "temp = np.mean(interm_prediction, axis=(0, 1, 2))\n",
    "seq = np.argsort(temp)\n",
    "weight_0 = model_copy.layers[5].get_weights()[0]\n",
    "bias_0 = model_copy.layers[5].get_weights()[1]\n",
    "\n",
    "for channel_index in tqdm(seq):\n",
    "    weight_0[:, :, :, channel_index] = 0\n",
    "    bias_0[channel_index] = 0\n",
    "    model_copy.layers[5].set_weights([weight_0, bias_0])\n",
    "    cl_label_pred = np.argmax(model_copy.predict(cl_x_valid), axis=1)\n",
    "    cl_accuracy = np.mean(np.equal(cl_label_pred, cl_y_valid)) * 100\n",
    "    \n",
    "    for i, threshold in enumerate([2, 4, 10]):\n",
    "        if (clean_data_acc - cl_accuracy >= threshold) and not saved_models[i]:\n",
    "            print(f\"The accuracy drops by at least {threshold}%, model is saved.\")\n",
    "            model_copy.save(f'model_threshold_{threshold}.h5')\n",
    "            saved_models[i] = True\n",
    "\n",
    "    clean_acc.append(cl_accuracy)\n",
    "    bd_label_pred = np.argmax(model_copy.predict(bd_x_valid), axis=1)\n",
    "    asr = np.mean(np.equal(bd_label_pred, bd_y_valid)) * 100\n",
    "    asrate.append(asr)\n",
    "\n",
    "    # Display pruning information\n",
    "    print(\"Clean Classification Accuracy: \", cl_accuracy)\n",
    "    print(\"Attack Success Rate: \", asr)\n",
    "    print(\"Pruned Channel Index: \", channel_index)\n",
    "\n",
    "    # Clear the session at the end\n",
    "    keras.backend.clear_session()\n"
   ]
  },
  {
   "cell_type": "code",
   "execution_count": 20,
   "id": "6079a29d",
   "metadata": {},
   "outputs": [
    {
     "name": "stdout",
     "output_type": "stream",
     "text": [
      "Clean Accuracy: 98.64899974019225, ASR: 100.0\n",
      "Clean Accuracy: 98.64899974019225, ASR: 100.0\n",
      "Clean Accuracy: 98.64899974019225, ASR: 100.0\n",
      "Clean Accuracy: 98.64899974019225, ASR: 100.0\n",
      "Clean Accuracy: 98.64899974019225, ASR: 100.0\n",
      "Clean Accuracy: 98.64899974019225, ASR: 100.0\n",
      "Clean Accuracy: 98.64899974019225, ASR: 100.0\n",
      "Clean Accuracy: 98.64899974019225, ASR: 100.0\n",
      "Clean Accuracy: 98.64899974019225, ASR: 100.0\n",
      "Clean Accuracy: 98.64899974019225, ASR: 100.0\n",
      "Clean Accuracy: 98.64899974019225, ASR: 100.0\n",
      "Clean Accuracy: 98.64899974019225, ASR: 100.0\n",
      "Clean Accuracy: 98.64899974019225, ASR: 100.0\n",
      "Clean Accuracy: 98.64899974019225, ASR: 100.0\n",
      "Clean Accuracy: 98.64899974019225, ASR: 100.0\n",
      "Clean Accuracy: 98.64899974019225, ASR: 100.0\n",
      "Clean Accuracy: 98.64899974019225, ASR: 100.0\n",
      "Clean Accuracy: 98.64899974019225, ASR: 100.0\n",
      "Clean Accuracy: 98.64899974019225, ASR: 100.0\n",
      "Clean Accuracy: 98.64899974019225, ASR: 100.0\n",
      "Clean Accuracy: 98.64899974019225, ASR: 100.0\n",
      "Clean Accuracy: 98.64899974019225, ASR: 100.0\n",
      "Clean Accuracy: 98.64899974019225, ASR: 100.0\n",
      "Clean Accuracy: 98.64899974019225, ASR: 100.0\n",
      "Clean Accuracy: 98.64899974019225, ASR: 100.0\n",
      "Clean Accuracy: 98.64899974019225, ASR: 100.0\n",
      "Clean Accuracy: 98.64899974019225, ASR: 100.0\n",
      "Clean Accuracy: 98.64899974019225, ASR: 100.0\n",
      "Clean Accuracy: 98.64899974019225, ASR: 100.0\n",
      "Clean Accuracy: 98.64899974019225, ASR: 100.0\n",
      "Clean Accuracy: 98.64899974019225, ASR: 100.0\n",
      "Clean Accuracy: 98.64899974019225, ASR: 100.0\n",
      "Clean Accuracy: 98.64899974019225, ASR: 100.0\n",
      "Clean Accuracy: 98.64033948211657, ASR: 100.0\n",
      "Clean Accuracy: 98.64033948211657, ASR: 100.0\n",
      "Clean Accuracy: 98.63167922404088, ASR: 100.0\n",
      "Clean Accuracy: 98.65765999826795, ASR: 100.0\n",
      "Clean Accuracy: 98.64899974019225, ASR: 100.0\n",
      "Clean Accuracy: 98.6056984498138, ASR: 100.0\n",
      "Clean Accuracy: 98.57105741751104, ASR: 100.0\n",
      "Clean Accuracy: 98.53641638520828, ASR: 100.0\n",
      "Clean Accuracy: 98.19000606218066, ASR: 100.0\n",
      "Clean Accuracy: 97.65307006148784, ASR: 100.0\n",
      "Clean Accuracy: 97.50584567420108, ASR: 100.0\n",
      "Clean Accuracy: 95.75647354291158, ASR: 100.0\n",
      "Clean Accuracy: 95.20221702606739, ASR: 99.9913397419243\n",
      "Clean Accuracy: 94.7172425738287, ASR: 99.9913397419243\n",
      "Clean Accuracy: 92.09318437689443, ASR: 99.9913397419243\n",
      "Clean Accuracy: 91.49562656967177, ASR: 99.9913397419243\n",
      "Clean Accuracy: 91.01931237550879, ASR: 99.98267948384861\n",
      "Clean Accuracy: 89.17467740538669, ASR: 80.73958603966398\n",
      "Clean Accuracy: 84.43751623798389, ASR: 77.015675067117\n",
      "Clean Accuracy: 76.48739932449988, ASR: 35.71490430414826\n",
      "Clean Accuracy: 54.8627349095003, ASR: 6.954187234779596\n",
      "Clean Accuracy: 27.08928726076037, ASR: 0.4243526457088421\n",
      "Clean Accuracy: 13.87373343725643, ASR: 0.0\n",
      "Clean Accuracy: 7.101411622066338, ASR: 0.0\n",
      "Clean Accuracy: 1.5501861955486274, ASR: 0.0\n",
      "Clean Accuracy: 0.7188014202823244, ASR: 0.0\n",
      "Clean Accuracy: 0.0779423226812159, ASR: 0.0\n"
     ]
    }
   ],
   "source": [
    "for ca, asr in zip(clean_acc, asrate):\n",
    "    print(f\"Clean Accuracy: {ca}, ASR: {asr}\")"
   ]
  },
  {
   "cell_type": "code",
   "execution_count": 5,
   "id": "f050b286",
   "metadata": {},
   "outputs": [
    {
     "data": {
      "image/png": "[encoded data removed]",
      "text/plain": [
       "<Figure size 1000x600 with 1 Axes>"
      ]
     },
     "metadata": {},
     "output_type": "display_data"
    }
   ],
   "source": [
    "# Plot Clean Accuracy and ASR vs Fraction of Pruned Channels\n",
    "pruned_fraction = np.arange(1,61)/60\n",
    "plt.figure(figsize=(10, 6))\n",
    "plt.plot(pruned_fraction, clean_acc, label='Clean Accuracy')\n",
    "plt.plot(pruned_fraction, asrate, label='ASR')\n",
    "plt.xlabel('Fraction of Pruned Channels')\n",
    "plt.ylabel('Accuracy / ASR (%)')\n",
    "plt.title('Clean Accuracy and ASR vs Fraction of Pruned Channels')\n",
    "plt.legend()\n",
    "plt.grid(True)\n",
    "plt.show()\n"
   ]
  },
  {
   "cell_type": "code",
   "execution_count": 6,
   "id": "fa01d1b9",
   "metadata": {},
   "outputs": [
    {
     "name": "stdout",
     "output_type": "stream",
     "text": [
      "WARNING:tensorflow:No training configuration found in the save file, so the model was *not* compiled. Compile it manually.\n",
      "WARNING:tensorflow:No training configuration found in the save file, so the model was *not* compiled. Compile it manually.\n",
      "WARNING:tensorflow:No training configuration found in the save file, so the model was *not* compiled. Compile it manually.\n"
     ]
    }
   ],
   "source": [
    "cl_test_data_path = r'/Users/yogyasharma/Downloads/Lab3/data/cl/test.h5'         \n",
    "bd_test_data_path = r'/Users/yogyasharma/Downloads/Lab3/data/bd/bd_test.h5' \n",
    "\n",
    "pruned_model_2_path = r'/Users/yogyasharma/model_threshold_2.h5'\n",
    "pruned_model_4_path = r'/Users/yogyasharma/model_threshold_4.h5'\n",
    "pruned_model_10_path = r'/Users/yogyasharma/model_threshold_10.h5'\n",
    "\n",
    "# Loading the pruned models\n",
    "pruned_model_2 = load_model(pruned_model_2_path)\n",
    "pruned_model_4 = load_model(pruned_model_4_path)\n",
    "pruned_model_10 = load_model(pruned_model_10_path)\n",
    "\n",
    "pruned_model_2.compile(optimizer='adam', loss='sparse_categorical_crossentropy', metrics=['accuracy'])\n",
    "pruned_model_4.compile(optimizer='adam', loss='sparse_categorical_crossentropy', metrics=['accuracy'])\n",
    "pruned_model_10.compile(optimizer='adam', loss='sparse_categorical_crossentropy', metrics=['accuracy'])\n",
    "\n",
    "# Loading the test images\n",
    "def load_test_data(filepath):\n",
    "    data = h5py.File(filepath, 'r')\n",
    "    x_test = np.array(data['data'])\n",
    "    y_test = np.array(data['label'])\n",
    "    x_test = x_test.transpose((0, 2, 3, 1))\n",
    "    return x_test, y_test\n",
    "\n",
    "cl_x_test, cl_y_test = load_test_data(cl_test_data_path)\n",
    "bd_x_test, bd_y_test = load_test_data(bd_test_data_path)"
   ]
  },
  {
   "cell_type": "code",
   "execution_count": 7,
   "id": "4571b2c1",
   "metadata": {},
   "outputs": [
    {
     "name": "stdout",
     "output_type": "stream",
     "text": [
      "401/401 [==============================] - 2s 4ms/step\n",
      "401/401 [==============================] - 2s 4ms/step\n",
      "401/401 [==============================] - 2s 4ms/step\n",
      "401/401 [==============================] - 2s 4ms/step\n",
      "401/401 [==============================] - 2s 4ms/step\n",
      "401/401 [==============================] - 2s 4ms/step\n",
      "Clean Data Accuracy for pruned models:\n",
      "Model with 2% threshold: 95.90023382696803\n",
      "Model with 4% threshold: 92.29150428682775\n",
      "Model with 10% threshold: 84.54403741231489\n",
      "\n",
      "Attack Success Rate for pruned models:\n",
      "Model with 2% threshold: 100.0\n",
      "Model with 4% threshold: 99.98441153546376\n",
      "Model with 10% threshold: 77.20966484801247\n"
     ]
    }
   ],
   "source": [
    "# Make predictions on clean data\n",
    "pruned_clean_2 = np.argmax(pruned_model_2.predict(cl_x_test), axis = 1)\n",
    "pruned_clean_4 = np.argmax(pruned_model_4.predict(cl_x_test), axis = 1)\n",
    "pruned_clean_10 = np.argmax(pruned_model_10.predict(cl_x_test), axis = 1)\n",
    "\n",
    "# Make predictions on backdoored data\n",
    "pruned_bd_2 = np.argmax(pruned_model_2.predict(bd_x_test), axis = 1)\n",
    "pruned_bd_4 = np.argmax(pruned_model_4.predict(bd_x_test), axis = 1)\n",
    "pruned_bd_10 = np.argmax(pruned_model_10.predict(bd_x_test), axis = 1)\n",
    "\n",
    "# Evaluate clean data accuracy\n",
    "acc_clean_2 = np.mean(np.equal(pruned_clean_2, cl_y_test))\n",
    "acc_clean_4 = np.mean(np.equal(pruned_clean_4, cl_y_test))\n",
    "acc_clean_10 = np.mean(np.equal(pruned_clean_10, cl_y_test))\n",
    "\n",
    "# Evaluate ASR\n",
    "acc_bd_2 = np.mean(np.equal(pruned_bd_2, bd_y_test))\n",
    "acc_bd_4 = np.mean(np.equal(pruned_bd_4, bd_y_test))\n",
    "acc_bd_10 = np.mean(np.equal(pruned_bd_10, bd_y_test))\n",
    "\n",
    "print(\"Clean Data Accuracy for pruned models:\")\n",
    "print(f\"Model with 2% threshold: {acc_clean_2 * 100}\")\n",
    "print(f\"Model with 4% threshold: {acc_clean_4 * 100}\")\n",
    "print(f\"Model with 10% threshold: {acc_clean_10 * 100}\")\n",
    "\n",
    "print(\"\\nAttack Success Rate for pruned models:\")\n",
    "print(f\"Model with 2% threshold: {acc_bd_2 * 100}\")\n",
    "print(f\"Model with 4% threshold: {acc_bd_4 * 100}\")\n",
    "print(f\"Model with 10% threshold: {acc_bd_10 * 100}\")"
   ]
  },
  {
   "cell_type": "code",
   "execution_count": 8,
   "id": "df3b703c",
   "metadata": {},
   "outputs": [
    {
     "data": {
      "image/png": "[encoded data removed]",
      "text/plain": [
       "<Figure size 1200x600 with 1 Axes>"
      ]
     },
     "metadata": {},
     "output_type": "display_data"
    }
   ],
   "source": [
    "# Define the data\n",
    "thresholds = [2, 4, 10]\n",
    "acc_clean_data = [acc_clean_2 * 100, acc_clean_4 * 100, acc_clean_10 * 100]\n",
    "acc_attack_success_rate = [acc_bd_2 * 100, acc_bd_4 * 100, acc_bd_10 * 100]\n",
    "\n",
    "bar_width = 0.35\n",
    "index = np.arange(len(thresholds))\n",
    "\n",
    "# Plot grouped bar chart with markers\n",
    "plt.figure(figsize=(12, 6))\n",
    "\n",
    "plt.bar(index, acc_clean_data, bar_width, color='blue', alpha=0.7, label='Clean Data Accuracy')\n",
    "plt.bar(index + bar_width, acc_attack_success_rate, bar_width, color='red', alpha=0.7, label='Attack Success Rate')\n",
    "\n",
    "# Add markers\n",
    "for i, value in enumerate(acc_clean_data):\n",
    "    plt.text(i, value + 1, f'{value:.2f}', ha='center', va='bottom')\n",
    "\n",
    "for i, value in enumerate(acc_attack_success_rate):\n",
    "    plt.text(i + bar_width, value + 1, f'{value:.2f}', ha='center', va='bottom')\n",
    "\n",
    "plt.xlabel('Pruning Thresholds')\n",
    "plt.ylabel('Accuracy (%)')\n",
    "plt.title('Clean Data Accuracy and Attack Success Rate for Pruned Models')\n",
    "plt.xticks(index + bar_width / 2, thresholds)\n",
    "plt.legend()\n",
    "\n",
    "plt.show()\n"
   ]
  },
  {
   "cell_type": "code",
   "execution_count": 14,
   "id": "bcdd9fce",
   "metadata": {},
   "outputs": [],
   "source": [
    "class GoodNet(keras.Model):\n",
    "    def __init__(self, model_1, model_2):\n",
    "        super(GoodNet, self).__init__()\n",
    "        self.model_1 = model_1\n",
    "        self.model_2 = model_2\n",
    "\n",
    "    def predict(self, data):\n",
    "        pred1 = np.argmax(self.model_1.predict(data), axis=1)\n",
    "        pred2 = np.argmax(self.model_2.predict(data), axis=1)\n",
    "\n",
    "        pred = np.where(pred1 == pred2, pred1, 1283)\n",
    "        return pred"
   ]
  },
  {
   "cell_type": "code",
   "execution_count": 15,
   "id": "d14a9f52",
   "metadata": {},
   "outputs": [],
   "source": [
    "badnet_model = keras.models.load_model(model_path)\n",
    "\n",
    "goodNet_2 = GoodNet(badnet_model, pruned_model_2)\n",
    "goodNet_4 = GoodNet(badnet_model, pruned_model_4)\n",
    "goodNet_10 = GoodNet(badnet_model, pruned_model_10)\n",
    "\n",
    "goodNet_2.compile(optimizer='adam', loss='sparse_categorical_crossentropy', metrics=['accuracy'])\n",
    "goodNet_4.compile(optimizer='adam', loss='sparse_categorical_crossentropy', metrics=['accuracy'])\n",
    "goodNet_10.compile(optimizer='adam', loss='sparse_categorical_crossentropy', metrics=['accuracy'])"
   ]
  },
  {
   "cell_type": "markdown",
   "id": "0a7bf898",
   "metadata": {},
   "source": [
    "Here we can see that the GoodNet models are being evaluated in the same way as to be done in eval.py. The argmax operation happens in the GoodNet class above and the classification accuracy is being calculated below for each model.\n",
    "(Can't pass the model to the eval.py script, as that code preprocesses the input data, which isn't required here)\n",
    "\n",
    "In case we need to pass the model to the eval script, I have attached GoodNet models in the repository, and can be given to the script if we remove the preprocessing step."
   ]
  },
  {
   "cell_type": "code",
   "execution_count": 16,
   "id": "9a9d6b44",
   "metadata": {},
   "outputs": [
    {
     "name": "stdout",
     "output_type": "stream",
     "text": [
      "401/401 [==============================] - 2s 4ms/step\n",
      "401/401 [==============================] - 2s 4ms/step\n",
      "401/401 [==============================] - 2s 4ms/step\n",
      "401/401 [==============================] - 2s 4ms/step\n",
      "401/401 [==============================] - 2s 4ms/step\n",
      "401/401 [==============================] - 2s 4ms/step\n",
      "401/401 [==============================] - 2s 4ms/step\n",
      "401/401 [==============================] - 2s 4ms/step\n",
      "401/401 [==============================] - 2s 4ms/step\n",
      "401/401 [==============================] - 2s 4ms/step\n",
      "401/401 [==============================] - 2s 4ms/step\n",
      "401/401 [==============================] - 2s 4ms/step\n",
      "Clean Data Accuracy for GoodNet:\n",
      "Model with 2% threshold: 95.74434918160561\n",
      "Model with 4% threshold: 92.1278254091972\n",
      "Model with 10% threshold: 84.3335931410756\n",
      "\n",
      "Attack Success Rate for GoodNet:\n",
      "Model with 2% threshold: 100.0\n",
      "Model with 4% threshold: 99.98441153546376\n",
      "Model with 10% threshold: 77.20966484801247\n"
     ]
    }
   ],
   "source": [
    "# Make predictions on clean data\n",
    "predictions_clean_2 = goodNet_2.predict(cl_x_test)\n",
    "predictions_clean_4 = goodNet_4.predict(cl_x_test)\n",
    "predictions_clean_10 = goodNet_10.predict(cl_x_test)\n",
    "\n",
    "# Make predictions on backdoored data\n",
    "predictions_bd_2 = goodNet_2.predict(bd_x_test)\n",
    "predictions_bd_4 = goodNet_4.predict(bd_x_test)\n",
    "predictions_bd_10 = goodNet_10.predict(bd_x_test)\n",
    "\n",
    "# Evaluate clean data accuracy\n",
    "acc_clean_2 = np.mean(np.equal(cl_y_test, predictions_clean_2))\n",
    "acc_clean_4 = np.mean(np.equal(cl_y_test, predictions_clean_4))\n",
    "acc_clean_10 = np.mean(np.equal(cl_y_test, predictions_clean_10))\n",
    "\n",
    "# Evaluate ASR\n",
    "acc_bd_2 = np.mean(np.equal(bd_y_test, predictions_bd_2))\n",
    "acc_bd_4 = np.mean(np.equal(bd_y_test, predictions_bd_4))\n",
    "acc_bd_10 = np.mean(np.equal(bd_y_test, predictions_bd_10))\n",
    "\n",
    "print(\"Clean Data Accuracy for GoodNet:\")\n",
    "print(f\"Model with 2% threshold: {acc_clean_2 * 100}\")\n",
    "print(f\"Model with 4% threshold: {acc_clean_4 * 100}\")\n",
    "print(f\"Model with 10% threshold: {acc_clean_10 * 100}\")\n",
    "\n",
    "print(\"\\nAttack Success Rate for GoodNet:\")\n",
    "print(f\"Model with 2% threshold: {acc_bd_2 * 100}\")\n",
    "print(f\"Model with 4% threshold: {acc_bd_4 * 100}\")\n",
    "print(f\"Model with 10% threshold: {acc_bd_10 * 100}\")\n"
   ]
  },
  {
   "cell_type": "code",
   "execution_count": 12,
   "id": "83dd4d16",
   "metadata": {},
   "outputs": [
    {
     "data": {
      "image/png": "[encoded data removed]",
      "text/plain": [
       "<Figure size 1200x600 with 1 Axes>"
      ]
     },
     "metadata": {},
     "output_type": "display_data"
    }
   ],
   "source": [
    "# Define the data\n",
    "thresholds = [2, 4, 10]\n",
    "acc_clean_data = [acc_clean_2 * 100, acc_clean_4 * 100, acc_clean_10 * 100]\n",
    "acc_attack_success_rate = [acc_bd_2 * 100, acc_bd_4 * 100, acc_bd_10 * 100]\n",
    "\n",
    "bar_width = 0.35\n",
    "index = np.arange(len(thresholds))\n",
    "\n",
    "# Plot grouped bar chart with markers\n",
    "plt.figure(figsize=(12, 6))\n",
    "\n",
    "plt.bar(index, acc_clean_data, bar_width, color='blue', alpha=0.7, label='Clean Data Accuracy')\n",
    "plt.bar(index + bar_width, acc_attack_success_rate, bar_width, color='red', alpha=0.7, label='Attack Success Rate')\n",
    "\n",
    "# Add markers\n",
    "for i, value in enumerate(acc_clean_data):\n",
    "    plt.text(i, value + 1, f'{value:.2f}', ha='center', va='bottom')\n",
    "\n",
    "for i, value in enumerate(acc_attack_success_rate):\n",
    "    plt.text(i + bar_width, value + 1, f'{value:.2f}', ha='center', va='bottom')\n",
    "\n",
    "plt.xlabel('Pruning Thresholds')\n",
    "plt.ylabel('Accuracy (%)')\n",
    "plt.title('Clean Data Accuracy and Attack Success Rate for GoodNet Models')\n",
    "plt.xticks(index + bar_width / 2, thresholds)\n",
    "plt.legend()\n",
    "\n",
    "plt.show()\n"
   ]
  },
  {
   "cell_type": "code",
   "execution_count": null,
   "id": "8768025e",
   "metadata": {},
   "outputs": [],
   "source": []
  }
 ],
 "metadata": {
  "kernelspec": {
   "display_name": "Python 3 (ipykernel)",
   "language": "python",
   "name": "python3"
  },
  "language_info": {
   "codemirror_mode": {
    "name": "ipython",
    "version": 3
   },
   "file_extension": ".py",
   "mimetype": "text/x-python",
   "name": "python",
   "nbconvert_exporter": "python",
   "pygments_lexer": "ipython3",
   "version": "3.11.5"
  }
 },
 "nbformat": 4,
 "nbformat_minor": 5
}
